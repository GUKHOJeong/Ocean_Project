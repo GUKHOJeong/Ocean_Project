{
 "cells": [
  {
   "cell_type": "code",
   "execution_count": null,
   "metadata": {},
   "outputs": [
    {
     "name": "stdout",
     "output_type": "stream",
     "text": [
      "원본 클러스터 레이블: [4 4 4 4 4 7 7 7 7 7 7 7 7 7 1 1 1 1 1 1 1 1 1 1 1 1 6 6 6 6 6 6 6 6 6 6 6\n",
      " 5 5 5 5 5 4 4 4 4 4 4 4 4 4 4 4 4 4 4 4 4 7 7 7 7 7 7 7 7 1 1 1 1 1 1 1 1\n",
      " 1 1 1 1 6 6 6 6 6 6 6 6 6 6 6 5 5 5 5 5 5 4 4 4 4 4 4 4 4 4 4 4 4 7 7 7 7\n",
      " 7 7 7 7 7 7 1 1 1 1 1 1 1 1 1 1 1 1 1 6 6 6 6 6 6 6 6 6 6 6 5 5 5 5 5 4 4\n",
      " 4 4 4 4 4 4 4 4 4 4 4 4 7 7 7 7 7 7 0 0 0 0 1 1 1 1 1 1 1 1 1 1 1 1 1 1 6\n",
      " 6 6 6 6 6 6 6 6 5 5 5 5 5 4 4 4 4 4 4 4 4 4 4 4 4 4 4 7 7 7 7 7 7 0 0 0 0\n",
      " 1 1 1 1 1 1 1 1 1 1 1 1 6 6 8 8 8 8 8 8 8 8 8 8 8 5 5 5 5 5 4 4 4 4 4 4 4\n",
      " 4 4 4 4 4 4 7 7 7 7 7 0 0 0 0 1 1 1 1 1 1 1 1 1 1 6 6 6 6 6 6 6 6 6 6 6 6\n",
      " 5 5 5 5 5 5 5 5 4 4 4 4 4 4 4 4 4 4 4 4 4 4 7 7 7 7 7 0 0 0 7 7 1 1 1 1 1\n",
      " 1 1 1 1 1 1 6 6 6 6 6 6 6 6 6 6 6 5 5 5 5 4 4 4 4 4 4 4 4 4 4 4 4 4 4 4 7\n",
      " 7 7 7 7 7 0 0 0 1 1 1 1 1 1 1 1 1 1 6 6 6 6 6 6 6 6 6 6 6 6 6 6 6 5 5 5 5\n",
      " 5 5 4 4 4 4 4 4 4 4 4 4 4 4 7 7 7 7 7 7 0 0 0 0 1 1 1 1 1 1 1 1 1 1 1 1 1\n",
      " 1 6 6 6 6 6 5 5 5 5 5 5 5 5 5 5 4 4 4 4 4 4 4 4 4 4 4 4 4 7 7 7 7 7 7 0 0\n",
      " 0 0 1 1 1 1 1 1 1 1 1 1 1 1 1 6 6 6 6 6 6 6 6 6 5 5 5 5 5 5 4 4 4 4 4 4 4\n",
      " 4 4 4 4 4 4 7 7 7 7 7 7 7 0 0 0 0 1 1 1 1 1 1 1 1 6 6 6 6 6 6 6 6 6 6 6 6\n",
      " 6 6 6 6 6 5 5 5 5 5 4 4 4 4 4 4 4 4 4 4 4 7 7 7 7 7 7 7 0 0 0 0 1 1 1 1 1\n",
      " 1 1 3 1 3 3 3 3 3 3 3 3 3 5 5 5 5 5 5 5 5 5 5 5 2 2 2 2 2 2 2 2 2 2 2 7 7\n",
      " 7 7 7 7 7 7 7 0 0 0 3 3 3 3 3 3 3 3 3 3 3 3 3 3 3 3 3 3 3 3 3 3 3 5 5 5 5\n",
      " 5 5 2 2 2 2 2 2 2 2 2 2 2 4 4 4 4 7 7 7 7 7 0 0 0 0 3 3 3 3 3 3 3 3 3 3 3\n",
      " 3 3 3 3 3 3 3 3 3 3 3 3 3 5 5 5 5 5 2 2 2 2 2 4]\n",
      "고유한 클러스터 레이블: [0 1 2 3 4 5 6 7 8]\n",
      "레이블 매핑: {np.int64(0): 0, np.int64(1): 1, np.int64(2): 2, np.int64(3): 3, np.int64(4): 4, np.int64(5): 5, np.int64(6): 6, np.int64(7): 7, np.int64(8): 8}\n",
      "새로운 클러스터 레이블 (0부터 시작): [4 4 4 4 4 7 7 7 7 7 7 7 7 7 1 1 1 1 1 1 1 1 1 1 1 1 6 6 6 6 6 6 6 6 6 6 6\n",
      " 5 5 5 5 5 4 4 4 4 4 4 4 4 4 4 4 4 4 4 4 4 7 7 7 7 7 7 7 7 1 1 1 1 1 1 1 1\n",
      " 1 1 1 1 6 6 6 6 6 6 6 6 6 6 6 5 5 5 5 5 5 4 4 4 4 4 4 4 4 4 4 4 4 7 7 7 7\n",
      " 7 7 7 7 7 7 1 1 1 1 1 1 1 1 1 1 1 1 1 6 6 6 6 6 6 6 6 6 6 6 5 5 5 5 5 4 4\n",
      " 4 4 4 4 4 4 4 4 4 4 4 4 7 7 7 7 7 7 0 0 0 0 1 1 1 1 1 1 1 1 1 1 1 1 1 1 6\n",
      " 6 6 6 6 6 6 6 6 5 5 5 5 5 4 4 4 4 4 4 4 4 4 4 4 4 4 4 7 7 7 7 7 7 0 0 0 0\n",
      " 1 1 1 1 1 1 1 1 1 1 1 1 6 6 8 8 8 8 8 8 8 8 8 8 8 5 5 5 5 5 4 4 4 4 4 4 4\n",
      " 4 4 4 4 4 4 7 7 7 7 7 0 0 0 0 1 1 1 1 1 1 1 1 1 1 6 6 6 6 6 6 6 6 6 6 6 6\n",
      " 5 5 5 5 5 5 5 5 4 4 4 4 4 4 4 4 4 4 4 4 4 4 7 7 7 7 7 0 0 0 7 7 1 1 1 1 1\n",
      " 1 1 1 1 1 1 6 6 6 6 6 6 6 6 6 6 6 5 5 5 5 4 4 4 4 4 4 4 4 4 4 4 4 4 4 4 7\n",
      " 7 7 7 7 7 0 0 0 1 1 1 1 1 1 1 1 1 1 6 6 6 6 6 6 6 6 6 6 6 6 6 6 6 5 5 5 5\n",
      " 5 5 4 4 4 4 4 4 4 4 4 4 4 4 7 7 7 7 7 7 0 0 0 0 1 1 1 1 1 1 1 1 1 1 1 1 1\n",
      " 1 6 6 6 6 6 5 5 5 5 5 5 5 5 5 5 4 4 4 4 4 4 4 4 4 4 4 4 4 7 7 7 7 7 7 0 0\n",
      " 0 0 1 1 1 1 1 1 1 1 1 1 1 1 1 6 6 6 6 6 6 6 6 6 5 5 5 5 5 5 4 4 4 4 4 4 4\n",
      " 4 4 4 4 4 4 7 7 7 7 7 7 7 0 0 0 0 1 1 1 1 1 1 1 1 6 6 6 6 6 6 6 6 6 6 6 6\n",
      " 6 6 6 6 6 5 5 5 5 5 4 4 4 4 4 4 4 4 4 4 4 7 7 7 7 7 7 7 0 0 0 0 1 1 1 1 1\n",
      " 1 1 3 1 3 3 3 3 3 3 3 3 3 5 5 5 5 5 5 5 5 5 5 5 2 2 2 2 2 2 2 2 2 2 2 7 7\n",
      " 7 7 7 7 7 7 7 0 0 0 3 3 3 3 3 3 3 3 3 3 3 3 3 3 3 3 3 3 3 3 3 3 3 5 5 5 5\n",
      " 5 5 2 2 2 2 2 2 2 2 2 2 2 4 4 4 4 7 7 7 7 7 0 0 0 0 3 3 3 3 3 3 3 3 3 3 3\n",
      " 3 3 3 3 3 3 3 3 3 3 3 3 3 5 5 5 5 5 2 2 2 2 2 4]\n",
      "새로운 클러스터 레이블 (alternative): [4 4 4 4 4 7 7 7 7 7 7 7 7 7 1 1 1 1 1 1 1 1 1 1 1 1 6 6 6 6 6 6 6 6 6 6 6\n",
      " 5 5 5 5 5 4 4 4 4 4 4 4 4 4 4 4 4 4 4 4 4 7 7 7 7 7 7 7 7 1 1 1 1 1 1 1 1\n",
      " 1 1 1 1 6 6 6 6 6 6 6 6 6 6 6 5 5 5 5 5 5 4 4 4 4 4 4 4 4 4 4 4 4 7 7 7 7\n",
      " 7 7 7 7 7 7 1 1 1 1 1 1 1 1 1 1 1 1 1 6 6 6 6 6 6 6 6 6 6 6 5 5 5 5 5 4 4\n",
      " 4 4 4 4 4 4 4 4 4 4 4 4 7 7 7 7 7 7 0 0 0 0 1 1 1 1 1 1 1 1 1 1 1 1 1 1 6\n",
      " 6 6 6 6 6 6 6 6 5 5 5 5 5 4 4 4 4 4 4 4 4 4 4 4 4 4 4 7 7 7 7 7 7 0 0 0 0\n",
      " 1 1 1 1 1 1 1 1 1 1 1 1 6 6 8 8 8 8 8 8 8 8 8 8 8 5 5 5 5 5 4 4 4 4 4 4 4\n",
      " 4 4 4 4 4 4 7 7 7 7 7 0 0 0 0 1 1 1 1 1 1 1 1 1 1 6 6 6 6 6 6 6 6 6 6 6 6\n",
      " 5 5 5 5 5 5 5 5 4 4 4 4 4 4 4 4 4 4 4 4 4 4 7 7 7 7 7 0 0 0 7 7 1 1 1 1 1\n",
      " 1 1 1 1 1 1 6 6 6 6 6 6 6 6 6 6 6 5 5 5 5 4 4 4 4 4 4 4 4 4 4 4 4 4 4 4 7\n",
      " 7 7 7 7 7 0 0 0 1 1 1 1 1 1 1 1 1 1 6 6 6 6 6 6 6 6 6 6 6 6 6 6 6 5 5 5 5\n",
      " 5 5 4 4 4 4 4 4 4 4 4 4 4 4 7 7 7 7 7 7 0 0 0 0 1 1 1 1 1 1 1 1 1 1 1 1 1\n",
      " 1 6 6 6 6 6 5 5 5 5 5 5 5 5 5 5 4 4 4 4 4 4 4 4 4 4 4 4 4 7 7 7 7 7 7 0 0\n",
      " 0 0 1 1 1 1 1 1 1 1 1 1 1 1 1 6 6 6 6 6 6 6 6 6 5 5 5 5 5 5 4 4 4 4 4 4 4\n",
      " 4 4 4 4 4 4 7 7 7 7 7 7 7 0 0 0 0 1 1 1 1 1 1 1 1 6 6 6 6 6 6 6 6 6 6 6 6\n",
      " 6 6 6 6 6 5 5 5 5 5 4 4 4 4 4 4 4 4 4 4 4 7 7 7 7 7 7 7 0 0 0 0 1 1 1 1 1\n",
      " 1 1 3 1 3 3 3 3 3 3 3 3 3 5 5 5 5 5 5 5 5 5 5 5 2 2 2 2 2 2 2 2 2 2 2 7 7\n",
      " 7 7 7 7 7 7 7 0 0 0 3 3 3 3 3 3 3 3 3 3 3 3 3 3 3 3 3 3 3 3 3 3 3 5 5 5 5\n",
      " 5 5 2 2 2 2 2 2 2 2 2 2 2 4 4 4 4 7 7 7 7 7 0 0 0 0 3 3 3 3 3 3 3 3 3 3 3\n",
      " 3 3 3 3 3 3 3 3 3 3 3 3 3 5 5 5 5 5 2 2 2 2 2 4]\n"
     ]
    }
   ],
   "source": []
  },
  {
   "cell_type": "code",
   "execution_count": 122,
   "metadata": {},
   "outputs": [],
   "source": [
    "import pandas as pd\n",
    "import numpy as np\n",
    "from sklearn.preprocessing import MinMaxScaler,StandardScaler\n",
    "from sklearn.tree import DecisionTreeClassifier\n",
    "from sklearn.ensemble import RandomForestClassifier\n",
    "from sklearn.metrics import accuracy_score,confusion_matrix,classification_report\n",
    "from tensorflow.keras.utils import to_categorical\n",
    "from xgboost import XGBClassifier\n",
    "from sklearn.model_selection import  GridSearchCV\n",
    "import matplotlib.pyplot as plt\n"
   ]
  },
  {
   "cell_type": "code",
   "execution_count": 72,
   "metadata": {},
   "outputs": [
    {
     "data": {
      "text/plain": [
       "['BaseCrossValidator',\n",
       " 'BaseShuffleSplit',\n",
       " 'FixedThresholdClassifier',\n",
       " 'GridSearchCV',\n",
       " 'GroupKFold',\n",
       " 'GroupShuffleSplit',\n",
       " 'KFold',\n",
       " 'LearningCurveDisplay',\n",
       " 'LeaveOneGroupOut',\n",
       " 'LeaveOneOut',\n",
       " 'LeavePGroupsOut',\n",
       " 'LeavePOut',\n",
       " 'ParameterGrid',\n",
       " 'ParameterSampler',\n",
       " 'PredefinedSplit',\n",
       " 'RandomizedSearchCV',\n",
       " 'RepeatedKFold',\n",
       " 'RepeatedStratifiedKFold',\n",
       " 'ShuffleSplit',\n",
       " 'StratifiedGroupKFold',\n",
       " 'StratifiedKFold',\n",
       " 'StratifiedShuffleSplit',\n",
       " 'TimeSeriesSplit',\n",
       " 'TunedThresholdClassifierCV',\n",
       " 'ValidationCurveDisplay',\n",
       " '__all__',\n",
       " '__builtins__',\n",
       " '__cached__',\n",
       " '__doc__',\n",
       " '__file__',\n",
       " '__getattr__',\n",
       " '__loader__',\n",
       " '__name__',\n",
       " '__package__',\n",
       " '__path__',\n",
       " '__spec__',\n",
       " '_classification_threshold',\n",
       " '_plot',\n",
       " '_search',\n",
       " '_split',\n",
       " '_validation',\n",
       " 'check_cv',\n",
       " 'cross_val_predict',\n",
       " 'cross_val_score',\n",
       " 'cross_validate',\n",
       " 'learning_curve',\n",
       " 'permutation_test_score',\n",
       " 'train_test_split',\n",
       " 'typing',\n",
       " 'validation_curve']"
      ]
     },
     "execution_count": 72,
     "metadata": {},
     "output_type": "execute_result"
    }
   ],
   "source": [
    "dir(sklearn.model_selection)"
   ]
  },
  {
   "cell_type": "code",
   "execution_count": 46,
   "metadata": {},
   "outputs": [],
   "source": [
    "# 분류 \n",
    "ocean_data = pd.read_csv('data/rate_ocean_final.csv')\n",
    "\n",
    "ocean_data.set_index('Date',inplace=True)\n",
    "ocean_data['Target']= new_labels_alternative"
   ]
  },
  {
   "cell_type": "code",
   "execution_count": 7,
   "metadata": {},
   "outputs": [],
   "source": [
    "def create_sequence(data, window_size,target_name):\n",
    "    y_data= data[[target_name]].values\n",
    "    times = data.index\n",
    "    data = data.values\n",
    "    X, y = [], []\n",
    "    time_list = []\n",
    "    for i in range(len(data) - window_size):\n",
    "        X.append(data[i:i + window_size])\n",
    "        y.append(y_data[i + window_size])\n",
    "        time_list.append(times[i + window_size])\n",
    "    X, y = np.array(X), np.array(y)\n",
    "    return X,y,time_list"
   ]
  },
  {
   "cell_type": "code",
   "execution_count": 47,
   "metadata": {},
   "outputs": [],
   "source": [
    "X,y,time_list = create_sequence(ocean_data, 4,'Target')"
   ]
  },
  {
   "cell_type": "code",
   "execution_count": 52,
   "metadata": {},
   "outputs": [],
   "source": [
    "split_index = int(len(X) * 0.8)\n",
    "X_train_raw, y_train_raw = X[:split_index], y[:split_index]\n",
    "X_test_raw, y_test_raw = X[split_index:], y[split_index:]\n",
    "time_list_train,time_list_test=time_list[:split_index],time_list[split_index:]\n",
    "feauture_num = X_train_raw.shape[2]"
   ]
  },
  {
   "cell_type": "code",
   "execution_count": 53,
   "metadata": {},
   "outputs": [],
   "source": [
    "scaler= MinMaxScaler()"
   ]
  },
  {
   "cell_type": "code",
   "execution_count": 152,
   "metadata": {},
   "outputs": [
    {
     "data": {
      "text/plain": [
       "array([[[0.69583333, 0.03252886, 0.09756098, ..., 0.31232877,\n",
       "         0.38600451, 0.875     ],\n",
       "        [0.57395833, 0.10912907, 0.17073171, ..., 0.29863014,\n",
       "         0.29571106, 0.875     ],\n",
       "        [0.73020833, 0.0409234 , 0.13883677, ..., 0.29863014,\n",
       "         0.29571106, 0.875     ],\n",
       "        [0.73854167, 0.00314795, 0.11444653, ..., 0.29863014,\n",
       "         0.29571106, 0.875     ]],\n",
       "\n",
       "       [[0.57395833, 0.10912907, 0.17073171, ..., 0.29863014,\n",
       "         0.29571106, 0.875     ],\n",
       "        [0.73020833, 0.0409234 , 0.13883677, ..., 0.29863014,\n",
       "         0.29571106, 0.875     ],\n",
       "        [0.73854167, 0.00314795, 0.11444653, ..., 0.29863014,\n",
       "         0.29571106, 0.875     ],\n",
       "        [0.81458333, 0.00209864, 0.10506567, ..., 0.29863014,\n",
       "         0.29571106, 0.875     ]],\n",
       "\n",
       "       [[0.73020833, 0.0409234 , 0.13883677, ..., 0.29863014,\n",
       "         0.29571106, 0.875     ],\n",
       "        [0.73854167, 0.00314795, 0.11444653, ..., 0.29863014,\n",
       "         0.29571106, 0.875     ],\n",
       "        [0.81458333, 0.00209864, 0.10506567, ..., 0.29863014,\n",
       "         0.29571106, 0.875     ],\n",
       "        [0.        , 0.        , 0.        , ..., 0.25753425,\n",
       "         0.40406321, 0.        ]],\n",
       "\n",
       "       ...,\n",
       "\n",
       "       [[0.52083333, 0.01888772, 0.61538462, ..., 0.55342466,\n",
       "         0.4469526 , 0.625     ],\n",
       "        [0.61458333, 0.07345226, 0.37711069, ..., 0.54520548,\n",
       "         0.46726862, 0.25      ],\n",
       "        [0.578125  , 0.01364113, 0.54596623, ..., 0.41369863,\n",
       "         0.41083521, 0.25      ],\n",
       "        [0.57291667, 0.02623295, 0.51031895, ..., 0.68219178,\n",
       "         0.53047404, 0.25      ]],\n",
       "\n",
       "       [[0.61458333, 0.07345226, 0.37711069, ..., 0.54520548,\n",
       "         0.46726862, 0.25      ],\n",
       "        [0.578125  , 0.01364113, 0.54596623, ..., 0.41369863,\n",
       "         0.41083521, 0.25      ],\n",
       "        [0.57291667, 0.02623295, 0.51031895, ..., 0.68219178,\n",
       "         0.53047404, 0.25      ],\n",
       "        [0.5375    , 0.07764953, 0.57786116, ..., 0.43287671,\n",
       "         0.39277652, 0.25      ]],\n",
       "\n",
       "       [[0.578125  , 0.01364113, 0.54596623, ..., 0.41369863,\n",
       "         0.41083521, 0.25      ],\n",
       "        [0.57291667, 0.02623295, 0.51031895, ..., 0.68219178,\n",
       "         0.53047404, 0.25      ],\n",
       "        [0.5375    , 0.07764953, 0.57786116, ..., 0.43287671,\n",
       "         0.39277652, 0.25      ],\n",
       "        [0.61458333, 0.0703043 , 0.52157598, ..., 0.23561644,\n",
       "         0.49887133, 0.25      ]]])"
      ]
     },
     "execution_count": 152,
     "metadata": {},
     "output_type": "execute_result"
    }
   ],
   "source": [
    "X_train_scaled = scaler.fit_transform(X_train_raw.reshape(-1, feauture_num)).reshape(X_train_raw.shape)\n",
    "y_train =to_categorical(y_train_raw)\n",
    "\n",
    "\n",
    "X_test_scaled = scaler.transform(X_test_raw.reshape(-1, feauture_num)).reshape(X_test_raw.shape)\n",
    "y_test = to_categorical(y_test_raw)\n",
    "\n",
    "X_train=X_train_scaled\n",
    "X_train\n",
    "X_test=X_test_scaled\n",
    "X_test"
   ]
  },
  {
   "cell_type": "code",
   "execution_count": 141,
   "metadata": {},
   "outputs": [
    {
     "data": {
      "text/plain": [
       "(145, 8)"
      ]
     },
     "execution_count": 141,
     "metadata": {},
     "output_type": "execute_result"
    }
   ],
   "source": [
    "y_test.shape"
   ]
  },
  {
   "cell_type": "code",
   "execution_count": null,
   "metadata": {},
   "outputs": [
    {
     "name": "stdout",
     "output_type": "stream",
     "text": [
      "정확도: 0.3586206896551724\n",
      "혼동행렬:\n",
      " [[11  0  0  0  0  0  0  0]\n",
      " [ 0  8  0  0  0  0  0  0]\n",
      " [ 0  0  0  0 25  2  0  0]\n",
      " [ 0 30  0  0  0  2 25  0]\n",
      " [ 0  0  0  0  5  0  0  0]\n",
      " [ 2  0  0  0  0 18  2  0]\n",
      " [ 0  0  0  0  0  0  0  0]\n",
      " [ 5  0  0  0  0  0  0 10]]\n",
      "분류보고서\n",
      "               precision    recall  f1-score   support\n",
      "\n",
      "           0       0.61      1.00      0.76        11\n",
      "           1       0.21      1.00      0.35         8\n",
      "           2       0.00      0.00      0.00        27\n",
      "           3       0.00      0.00      0.00        57\n",
      "           4       0.17      1.00      0.29         5\n",
      "           5       0.82      0.82      0.82        22\n",
      "           6       0.00      0.00      0.00         0\n",
      "           7       1.00      0.67      0.80        15\n",
      "\n",
      "    accuracy                           0.36       145\n",
      "   macro avg       0.35      0.56      0.38       145\n",
      "weighted avg       0.29      0.36      0.29       145\n",
      "\n"
     ]
    },
    {
     "name": "stderr",
     "output_type": "stream",
     "text": [
      "c:\\Users\\rnrgh\\OneDrive\\바탕 화면\\Second_Project\\.venv\\Lib\\site-packages\\sklearn\\metrics\\_classification.py:1565: UndefinedMetricWarning: Precision is ill-defined and being set to 0.0 in labels with no predicted samples. Use `zero_division` parameter to control this behavior.\n",
      "  _warn_prf(average, modifier, f\"{metric.capitalize()} is\", len(result))\n",
      "c:\\Users\\rnrgh\\OneDrive\\바탕 화면\\Second_Project\\.venv\\Lib\\site-packages\\sklearn\\metrics\\_classification.py:1565: UndefinedMetricWarning: Recall is ill-defined and being set to 0.0 in labels with no true samples. Use `zero_division` parameter to control this behavior.\n",
      "  _warn_prf(average, modifier, f\"{metric.capitalize()} is\", len(result))\n",
      "c:\\Users\\rnrgh\\OneDrive\\바탕 화면\\Second_Project\\.venv\\Lib\\site-packages\\sklearn\\metrics\\_classification.py:1565: UndefinedMetricWarning: Precision is ill-defined and being set to 0.0 in labels with no predicted samples. Use `zero_division` parameter to control this behavior.\n",
      "  _warn_prf(average, modifier, f\"{metric.capitalize()} is\", len(result))\n",
      "c:\\Users\\rnrgh\\OneDrive\\바탕 화면\\Second_Project\\.venv\\Lib\\site-packages\\sklearn\\metrics\\_classification.py:1565: UndefinedMetricWarning: Recall is ill-defined and being set to 0.0 in labels with no true samples. Use `zero_division` parameter to control this behavior.\n",
      "  _warn_prf(average, modifier, f\"{metric.capitalize()} is\", len(result))\n",
      "c:\\Users\\rnrgh\\OneDrive\\바탕 화면\\Second_Project\\.venv\\Lib\\site-packages\\sklearn\\metrics\\_classification.py:1565: UndefinedMetricWarning: Precision is ill-defined and being set to 0.0 in labels with no predicted samples. Use `zero_division` parameter to control this behavior.\n",
      "  _warn_prf(average, modifier, f\"{metric.capitalize()} is\", len(result))\n",
      "c:\\Users\\rnrgh\\OneDrive\\바탕 화면\\Second_Project\\.venv\\Lib\\site-packages\\sklearn\\metrics\\_classification.py:1565: UndefinedMetricWarning: Recall is ill-defined and being set to 0.0 in labels with no true samples. Use `zero_division` parameter to control this behavior.\n",
      "  _warn_prf(average, modifier, f\"{metric.capitalize()} is\", len(result))\n"
     ]
    }
   ],
   "source": [
    "xgb = XGBClassifier(random_state=42,)\n",
    "xgb.fit(X_train,y_train)\n",
    "y_pred = xgb.predict(X_test)\n",
    "y_pred = np.argmax(y_pred,axis=1)\n",
    "print(\"정확도:\",accuracy_score(y_test_raw,y_pred))\n",
    "print(\"혼동행렬:\\n\",confusion_matrix(y_test_raw,y_pred))\n",
    "print('분류보고서\\n',classification_report(y_test_raw,y_pred))"
   ]
  },
  {
   "cell_type": "code",
   "execution_count": null,
   "metadata": {},
   "outputs": [
    {
     "name": "stdout",
     "output_type": "stream",
     "text": [
      "정확도: 0.2689655172413793\n",
      "혼동행렬:\n",
      " [[ 6  4  0  0  0  0  0  1]\n",
      " [ 0  8  0  0  0  0  0  0]\n",
      " [ 0  0  0  0 25  2  0  0]\n",
      " [ 0 47  0  0  0  0 10  0]\n",
      " [ 0  0  0  0  4  0  0  1]\n",
      " [ 0  2  0  0  1 15  4  0]\n",
      " [ 0  0  0  0  0  0  0  0]\n",
      " [ 1  4  0  0  1  1  2  6]]\n",
      "분류보고서\n",
      "               precision    recall  f1-score   support\n",
      "\n",
      "           0       0.86      0.55      0.67        11\n",
      "           1       0.12      1.00      0.22         8\n",
      "           2       0.00      0.00      0.00        27\n",
      "           3       0.00      0.00      0.00        57\n",
      "           4       0.13      0.80      0.22         5\n",
      "           5       0.83      0.68      0.75        22\n",
      "           6       0.00      0.00      0.00         0\n",
      "           7       0.75      0.40      0.52        15\n",
      "\n",
      "    accuracy                           0.27       145\n",
      "   macro avg       0.34      0.43      0.30       145\n",
      "weighted avg       0.28      0.27      0.24       145\n",
      "\n"
     ]
    },
    {
     "name": "stderr",
     "output_type": "stream",
     "text": [
      "c:\\Users\\rnrgh\\OneDrive\\바탕 화면\\Second_Project\\.venv\\Lib\\site-packages\\sklearn\\metrics\\_classification.py:1565: UndefinedMetricWarning: Precision is ill-defined and being set to 0.0 in labels with no predicted samples. Use `zero_division` parameter to control this behavior.\n",
      "  _warn_prf(average, modifier, f\"{metric.capitalize()} is\", len(result))\n",
      "c:\\Users\\rnrgh\\OneDrive\\바탕 화면\\Second_Project\\.venv\\Lib\\site-packages\\sklearn\\metrics\\_classification.py:1565: UndefinedMetricWarning: Recall is ill-defined and being set to 0.0 in labels with no true samples. Use `zero_division` parameter to control this behavior.\n",
      "  _warn_prf(average, modifier, f\"{metric.capitalize()} is\", len(result))\n",
      "c:\\Users\\rnrgh\\OneDrive\\바탕 화면\\Second_Project\\.venv\\Lib\\site-packages\\sklearn\\metrics\\_classification.py:1565: UndefinedMetricWarning: Precision is ill-defined and being set to 0.0 in labels with no predicted samples. Use `zero_division` parameter to control this behavior.\n",
      "  _warn_prf(average, modifier, f\"{metric.capitalize()} is\", len(result))\n",
      "c:\\Users\\rnrgh\\OneDrive\\바탕 화면\\Second_Project\\.venv\\Lib\\site-packages\\sklearn\\metrics\\_classification.py:1565: UndefinedMetricWarning: Recall is ill-defined and being set to 0.0 in labels with no true samples. Use `zero_division` parameter to control this behavior.\n",
      "  _warn_prf(average, modifier, f\"{metric.capitalize()} is\", len(result))\n",
      "c:\\Users\\rnrgh\\OneDrive\\바탕 화면\\Second_Project\\.venv\\Lib\\site-packages\\sklearn\\metrics\\_classification.py:1565: UndefinedMetricWarning: Precision is ill-defined and being set to 0.0 in labels with no predicted samples. Use `zero_division` parameter to control this behavior.\n",
      "  _warn_prf(average, modifier, f\"{metric.capitalize()} is\", len(result))\n",
      "c:\\Users\\rnrgh\\OneDrive\\바탕 화면\\Second_Project\\.venv\\Lib\\site-packages\\sklearn\\metrics\\_classification.py:1565: UndefinedMetricWarning: Recall is ill-defined and being set to 0.0 in labels with no true samples. Use `zero_division` parameter to control this behavior.\n",
      "  _warn_prf(average, modifier, f\"{metric.capitalize()} is\", len(result))\n"
     ]
    }
   ],
   "source": [
    "dt = DecisionTreeClassifier(random_state=42)\n",
    "dt.fit(X_train,y_train)\n",
    "y_pred = dt.predict(X_test)\n",
    "y_pred = np.argmax(y_pred,axis=1)\n",
    "print(\"정확도:\",accuracy_score(y_test_raw,y_pred))\n",
    "print(\"혼동행렬:\\n\",confusion_matrix(y_test_raw,y_pred))\n",
    "print('분류보고서\\n',classification_report(y_test_raw,y_pred))"
   ]
  },
  {
   "cell_type": "code",
   "execution_count": 68,
   "id": "f3c139b1",
   "metadata": {},
   "outputs": [
    {
     "name": "stdout",
     "output_type": "stream",
     "text": [
      "정확도: 0.33793103448275863\n",
      "혼동행렬:\n",
      " [[ 9  2  0  0  0  0  0  0]\n",
      " [ 0  8  0  0  0  0  0  0]\n",
      " [ 0  0  0  0 26  1  0  0]\n",
      " [ 3 18  0  0  0  0 36  0]\n",
      " [ 0  0  0  0  5  0  0  0]\n",
      " [ 2  0  0  0  0 16  4  0]\n",
      " [ 0  0  0  0  0  0  0  0]\n",
      " [ 3  0  0  0  1  0  0 11]]\n",
      "분류보고서\n",
      "               precision    recall  f1-score   support\n",
      "\n",
      "           0       0.53      0.82      0.64        11\n",
      "           1       0.29      1.00      0.44         8\n",
      "           2       0.00      0.00      0.00        27\n",
      "           3       0.00      0.00      0.00        57\n",
      "           4       0.16      1.00      0.27         5\n",
      "           5       0.94      0.73      0.82        22\n",
      "           6       0.00      0.00      0.00         0\n",
      "           7       1.00      0.73      0.85        15\n",
      "\n",
      "    accuracy                           0.34       145\n",
      "   macro avg       0.36      0.53      0.38       145\n",
      "weighted avg       0.31      0.34      0.29       145\n",
      "\n"
     ]
    },
    {
     "name": "stderr",
     "output_type": "stream",
     "text": [
      "c:\\Users\\rnrgh\\OneDrive\\바탕 화면\\Second_Project\\.venv\\Lib\\site-packages\\sklearn\\metrics\\_classification.py:1565: UndefinedMetricWarning: Precision is ill-defined and being set to 0.0 in labels with no predicted samples. Use `zero_division` parameter to control this behavior.\n",
      "  _warn_prf(average, modifier, f\"{metric.capitalize()} is\", len(result))\n",
      "c:\\Users\\rnrgh\\OneDrive\\바탕 화면\\Second_Project\\.venv\\Lib\\site-packages\\sklearn\\metrics\\_classification.py:1565: UndefinedMetricWarning: Recall is ill-defined and being set to 0.0 in labels with no true samples. Use `zero_division` parameter to control this behavior.\n",
      "  _warn_prf(average, modifier, f\"{metric.capitalize()} is\", len(result))\n",
      "c:\\Users\\rnrgh\\OneDrive\\바탕 화면\\Second_Project\\.venv\\Lib\\site-packages\\sklearn\\metrics\\_classification.py:1565: UndefinedMetricWarning: Precision is ill-defined and being set to 0.0 in labels with no predicted samples. Use `zero_division` parameter to control this behavior.\n",
      "  _warn_prf(average, modifier, f\"{metric.capitalize()} is\", len(result))\n",
      "c:\\Users\\rnrgh\\OneDrive\\바탕 화면\\Second_Project\\.venv\\Lib\\site-packages\\sklearn\\metrics\\_classification.py:1565: UndefinedMetricWarning: Recall is ill-defined and being set to 0.0 in labels with no true samples. Use `zero_division` parameter to control this behavior.\n",
      "  _warn_prf(average, modifier, f\"{metric.capitalize()} is\", len(result))\n",
      "c:\\Users\\rnrgh\\OneDrive\\바탕 화면\\Second_Project\\.venv\\Lib\\site-packages\\sklearn\\metrics\\_classification.py:1565: UndefinedMetricWarning: Precision is ill-defined and being set to 0.0 in labels with no predicted samples. Use `zero_division` parameter to control this behavior.\n",
      "  _warn_prf(average, modifier, f\"{metric.capitalize()} is\", len(result))\n",
      "c:\\Users\\rnrgh\\OneDrive\\바탕 화면\\Second_Project\\.venv\\Lib\\site-packages\\sklearn\\metrics\\_classification.py:1565: UndefinedMetricWarning: Recall is ill-defined and being set to 0.0 in labels with no true samples. Use `zero_division` parameter to control this behavior.\n",
      "  _warn_prf(average, modifier, f\"{metric.capitalize()} is\", len(result))\n"
     ]
    }
   ],
   "source": [
    "# RF\n",
    "RF = RandomForestClassifier(random_state=42)\n",
    "RF.fit(X_train,y_train)\n",
    "y_pred=RF.predict(X_test)\n",
    "y_pred = np.argmax(y_pred,axis=1)\n",
    "print(\"정확도:\",accuracy_score(y_test_raw,y_pred))\n",
    "print(\"혼동행렬:\\n\",confusion_matrix(y_test_raw,y_pred))\n",
    "print('분류보고서\\n',classification_report(y_test_raw,y_pred))"
   ]
  },
  {
   "cell_type": "code",
   "execution_count": null,
   "id": "d5524b88",
   "metadata": {},
   "outputs": [],
   "source": [
    "model_xgb = XGBClassifier(random_state=42)\n",
    "hyperparams_xgb = {'n_estimators': [100, 200, 300],\n",
    "\t\t\t\t 'learning_rate': [0.01, 0.05, 0.1],\n",
    "\t\t\t\t 'max_depth': [3, 5, 7]}    \n",
    "model_rf = RandomForestClassifier(random_state=42)\n",
    "hyperparams_rf = {'n_estimators': [10, 50, 100],\n",
    "\t\t\t\t'max_depth': [None, 10, 20],\n",
    "\t\t\t\t'min_samples_split': [2, 5, 10],\n",
    "\t\t\t\t'min_samples_leaf': [1, 2, 4],\n",
    "\t\t\t\t'bootstrap': [True, False],}"
   ]
  },
  {
   "cell_type": "code",
   "execution_count": null,
   "id": "1aa6c484",
   "metadata": {},
   "outputs": [
    {
     "name": "stdout",
     "output_type": "stream",
     "text": [
      "정확도: 0.36551724137931035\n",
      "혼동행렬:\n",
      " [[11  0  0  0  0  0  0  0]\n",
      " [ 0  8  0  0  0  0  0  0]\n",
      " [ 1  0  0  0 25  1  0  0]\n",
      " [ 2 28  0  0  0  1 26  0]\n",
      " [ 0  0  0  0  5  0  0  0]\n",
      " [ 3  0  0  0  0 18  1  0]\n",
      " [ 0  0  0  0  0  0  0  0]\n",
      " [ 3  0  0  0  1  0  0 11]]\n",
      "분류보고서\n",
      "               precision    recall  f1-score   support\n",
      "\n",
      "           0       0.55      1.00      0.71        11\n",
      "           1       0.22      1.00      0.36         8\n",
      "           2       0.00      0.00      0.00        27\n",
      "           3       0.00      0.00      0.00        57\n",
      "           4       0.16      1.00      0.28         5\n",
      "           5       0.90      0.82      0.86        22\n",
      "           6       0.00      0.00      0.00         0\n",
      "           7       1.00      0.73      0.85        15\n",
      "\n",
      "    accuracy                           0.37       145\n",
      "   macro avg       0.35      0.57      0.38       145\n",
      "weighted avg       0.30      0.37      0.30       145\n",
      "\n"
     ]
    },
    {
     "name": "stderr",
     "output_type": "stream",
     "text": [
      "c:\\Users\\rnrgh\\OneDrive\\바탕 화면\\Second_Project\\.venv\\Lib\\site-packages\\sklearn\\metrics\\_classification.py:1565: UndefinedMetricWarning: Precision is ill-defined and being set to 0.0 in labels with no predicted samples. Use `zero_division` parameter to control this behavior.\n",
      "  _warn_prf(average, modifier, f\"{metric.capitalize()} is\", len(result))\n",
      "c:\\Users\\rnrgh\\OneDrive\\바탕 화면\\Second_Project\\.venv\\Lib\\site-packages\\sklearn\\metrics\\_classification.py:1565: UndefinedMetricWarning: Recall is ill-defined and being set to 0.0 in labels with no true samples. Use `zero_division` parameter to control this behavior.\n",
      "  _warn_prf(average, modifier, f\"{metric.capitalize()} is\", len(result))\n",
      "c:\\Users\\rnrgh\\OneDrive\\바탕 화면\\Second_Project\\.venv\\Lib\\site-packages\\sklearn\\metrics\\_classification.py:1565: UndefinedMetricWarning: Precision is ill-defined and being set to 0.0 in labels with no predicted samples. Use `zero_division` parameter to control this behavior.\n",
      "  _warn_prf(average, modifier, f\"{metric.capitalize()} is\", len(result))\n",
      "c:\\Users\\rnrgh\\OneDrive\\바탕 화면\\Second_Project\\.venv\\Lib\\site-packages\\sklearn\\metrics\\_classification.py:1565: UndefinedMetricWarning: Recall is ill-defined and being set to 0.0 in labels with no true samples. Use `zero_division` parameter to control this behavior.\n",
      "  _warn_prf(average, modifier, f\"{metric.capitalize()} is\", len(result))\n",
      "c:\\Users\\rnrgh\\OneDrive\\바탕 화면\\Second_Project\\.venv\\Lib\\site-packages\\sklearn\\metrics\\_classification.py:1565: UndefinedMetricWarning: Precision is ill-defined and being set to 0.0 in labels with no predicted samples. Use `zero_division` parameter to control this behavior.\n",
      "  _warn_prf(average, modifier, f\"{metric.capitalize()} is\", len(result))\n",
      "c:\\Users\\rnrgh\\OneDrive\\바탕 화면\\Second_Project\\.venv\\Lib\\site-packages\\sklearn\\metrics\\_classification.py:1565: UndefinedMetricWarning: Recall is ill-defined and being set to 0.0 in labels with no true samples. Use `zero_division` parameter to control this behavior.\n",
      "  _warn_prf(average, modifier, f\"{metric.capitalize()} is\", len(result))\n"
     ]
    }
   ],
   "source": [
    "model_info = GridSearchCV(estimator=model_xgb,\n",
    "                    param_grid = hyperparams_xgb,\n",
    "                    cv=5)\n",
    "model_info.fit(X_train,y_train)\n",
    "model_n = model_info.best_estimator_\n",
    "y_pred = model_n.predict(X_test)\n",
    "y_pred = np.argmax(y_pred,axis=1)\n",
    "print(\"정확도:\",accuracy_score(y_test_raw,y_pred))\n",
    "print(\"혼동행렬:\\n\",confusion_matrix(y_test_raw,y_pred))\n",
    "print('분류보고서\\n',classification_report(y_test_raw,y_pred))"
   ]
  },
  {
   "cell_type": "code",
   "execution_count": 115,
   "metadata": {},
   "outputs": [
    {
     "name": "stdout",
     "output_type": "stream",
     "text": [
      "<class 'pandas.core.frame.DataFrame'>\n",
      "RangeIndex: 145 entries, 0 to 144\n",
      "Data columns (total 3 columns):\n",
      " #   Column  Non-Null Count  Dtype \n",
      "---  ------  --------------  ----- \n",
      " 0   time    145 non-null    object\n",
      " 1   y_test  145 non-null    int64 \n",
      " 2   y_pred  145 non-null    int64 \n",
      "dtypes: int64(2), object(1)\n",
      "memory usage: 3.5+ KB\n"
     ]
    }
   ],
   "source": [
    "rf_df.info()"
   ]
  },
  {
   "cell_type": "code",
   "execution_count": null,
   "metadata": {},
   "outputs": [
    {
     "data": {
      "text/plain": [
       "(145,)"
      ]
     },
     "execution_count": 103,
     "metadata": {},
     "output_type": "execute_result"
    }
   ],
   "source": [
    "y_test_raw = y_test_raw.reshape(-1)\n",
    "y_test_raw.shape"
   ]
  },
  {
   "cell_type": "code",
   "execution_count": null,
   "metadata": {},
   "outputs": [],
   "source": [
    "rf_df = pd.DataFrame({'time':time_list_test,'y_test':y_test_raw,'y_pred':y_pred})\n"
   ]
  },
  {
   "cell_type": "code",
   "execution_count": 113,
   "metadata": {},
   "outputs": [
    {
     "data": {
      "image/png": "[encoded data removed]",
      "text/plain": [
       "<Figure size 640x480 with 1 Axes>"
      ]
     },
     "metadata": {},
     "output_type": "display_data"
    }
   ],
   "source": [
    "plt.plot(rf_df['time'],rf_df['y_test'],label='actual')\n",
    "plt.plot(rf_df['time'],rf_df['y_pred'],alpha=0.5,label='pred')\n",
    "plt.legend()\n",
    "plt.show()"
   ]
  },
  {
   "cell_type": "code",
   "execution_count": null,
   "id": "ed772b3e",
   "metadata": {},
   "outputs": [
    {
     "name": "stdout",
     "output_type": "stream",
     "text": [
      "정확도: 0.38620689655172413\n",
      "혼동행렬:\n",
      " [[11  0  0  0  0  0  0  0]\n",
      " [ 0  8  0  0  0  0  0  0]\n",
      " [ 0  0  0  0 25  2  0  0]\n",
      " [ 3 19  0  0  0  0 35  0]\n",
      " [ 0  0  0  0  5  0  0  0]\n",
      " [ 0  0  0  0  0 20  2  0]\n",
      " [ 0  0  0  0  0  0  0  0]\n",
      " [ 3  0  0  0  0  0  0 12]]\n",
      "분류보고서\n",
      "               precision    recall  f1-score   support\n",
      "\n",
      "           0       0.65      1.00      0.79        11\n",
      "           1       0.30      1.00      0.46         8\n",
      "           2       0.00      0.00      0.00        27\n",
      "           3       0.00      0.00      0.00        57\n",
      "           4       0.17      1.00      0.29         5\n",
      "           5       0.91      0.91      0.91        22\n",
      "           6       0.00      0.00      0.00         0\n",
      "           7       1.00      0.80      0.89        15\n",
      "\n",
      "    accuracy                           0.39       145\n",
      "   macro avg       0.38      0.59      0.42       145\n",
      "weighted avg       0.31      0.39      0.32       145\n",
      "\n"
     ]
    },
    {
     "name": "stderr",
     "output_type": "stream",
     "text": [
      "c:\\Users\\rnrgh\\OneDrive\\바탕 화면\\Second_Project\\.venv\\Lib\\site-packages\\sklearn\\metrics\\_classification.py:1565: UndefinedMetricWarning: Precision is ill-defined and being set to 0.0 in labels with no predicted samples. Use `zero_division` parameter to control this behavior.\n",
      "  _warn_prf(average, modifier, f\"{metric.capitalize()} is\", len(result))\n",
      "c:\\Users\\rnrgh\\OneDrive\\바탕 화면\\Second_Project\\.venv\\Lib\\site-packages\\sklearn\\metrics\\_classification.py:1565: UndefinedMetricWarning: Recall is ill-defined and being set to 0.0 in labels with no true samples. Use `zero_division` parameter to control this behavior.\n",
      "  _warn_prf(average, modifier, f\"{metric.capitalize()} is\", len(result))\n",
      "c:\\Users\\rnrgh\\OneDrive\\바탕 화면\\Second_Project\\.venv\\Lib\\site-packages\\sklearn\\metrics\\_classification.py:1565: UndefinedMetricWarning: Precision is ill-defined and being set to 0.0 in labels with no predicted samples. Use `zero_division` parameter to control this behavior.\n",
      "  _warn_prf(average, modifier, f\"{metric.capitalize()} is\", len(result))\n",
      "c:\\Users\\rnrgh\\OneDrive\\바탕 화면\\Second_Project\\.venv\\Lib\\site-packages\\sklearn\\metrics\\_classification.py:1565: UndefinedMetricWarning: Recall is ill-defined and being set to 0.0 in labels with no true samples. Use `zero_division` parameter to control this behavior.\n",
      "  _warn_prf(average, modifier, f\"{metric.capitalize()} is\", len(result))\n",
      "c:\\Users\\rnrgh\\OneDrive\\바탕 화면\\Second_Project\\.venv\\Lib\\site-packages\\sklearn\\metrics\\_classification.py:1565: UndefinedMetricWarning: Precision is ill-defined and being set to 0.0 in labels with no predicted samples. Use `zero_division` parameter to control this behavior.\n",
      "  _warn_prf(average, modifier, f\"{metric.capitalize()} is\", len(result))\n",
      "c:\\Users\\rnrgh\\OneDrive\\바탕 화면\\Second_Project\\.venv\\Lib\\site-packages\\sklearn\\metrics\\_classification.py:1565: UndefinedMetricWarning: Recall is ill-defined and being set to 0.0 in labels with no true samples. Use `zero_division` parameter to control this behavior.\n",
      "  _warn_prf(average, modifier, f\"{metric.capitalize()} is\", len(result))\n"
     ]
    }
   ],
   "source": [
    "model_info = GridSearchCV(estimator=model_rf,\n",
    "                    param_grid = hyperparams_rf,\n",
    "                    cv=5)\n",
    "model_info.fit(X_train,y_train)\n",
    "model_n = model_info.best_estimator_\n",
    "y_pred = model_n.predict(X_test)\n",
    "y_pred = np.argmax(y_pred,axis=1)\n",
    "print(\"정확도:\",accuracy_score(y_test_raw,y_pred))\n",
    "print(\"혼동행렬:\\n\",confusion_matrix(y_test_raw,y_pred))\n",
    "print('분류보고서\\n',classification_report(y_test_raw,y_pred))"
   ]
  },
  {
   "cell_type": "code",
   "execution_count": 116,
   "metadata": {},
   "outputs": [],
   "source": [
    "from tensorflow import keras"
   ]
  },
  {
   "cell_type": "code",
   "execution_count": 190,
   "id": "333a11aa",
   "metadata": {},
   "outputs": [],
   "source": [
    "from tensorflow.keras.models import Sequential\n",
    "from tensorflow.keras.layers import Dense,Conv1D,Flatten,Dropout,SimpleRNN,LSTM, MaxPooling1D,AveragePooling1D,GlobalAvgPool1D"
   ]
  },
  {
   "cell_type": "code",
   "execution_count": 131,
   "metadata": {},
   "outputs": [],
   "source": [
    "from tensorflow.keras.callbacks import EarlyStopping\n",
    "\n",
    "early_stopping = EarlyStopping(\n",
    "    monitor='val_loss',\n",
    "    min_delta=0.01,\n",
    "    patience=5,\n",
    "    verbose=1,\n",
    "    mode='auto' )"
   ]
  },
  {
   "cell_type": "code",
   "execution_count": 136,
   "metadata": {},
   "outputs": [
    {
     "data": {
      "text/plain": [
       "array([[0., 0., 0., ..., 0., 0., 1.],\n",
       "       [1., 0., 0., ..., 0., 0., 0.],\n",
       "       [1., 0., 0., ..., 0., 0., 0.],\n",
       "       ...,\n",
       "       [0., 0., 1., ..., 0., 0., 0.],\n",
       "       [0., 0., 1., ..., 0., 0., 0.],\n",
       "       [0., 0., 0., ..., 0., 0., 0.]])"
      ]
     },
     "execution_count": 136,
     "metadata": {},
     "output_type": "execute_result"
    }
   ],
   "source": [
    "y_test"
   ]
  },
  {
   "cell_type": "code",
   "execution_count": 150,
   "id": "ea9b73f1",
   "metadata": {},
   "outputs": [
    {
     "name": "stderr",
     "output_type": "stream",
     "text": [
      "c:\\Users\\rnrgh\\OneDrive\\바탕 화면\\Second_Project\\.venv\\Lib\\site-packages\\keras\\src\\layers\\core\\dense.py:87: UserWarning: Do not pass an `input_shape`/`input_dim` argument to a layer. When using Sequential models, prefer using an `Input(shape)` object as the first layer in the model instead.\n",
      "  super().__init__(activity_regularizer=activity_regularizer, **kwargs)\n"
     ]
    },
    {
     "data": {
      "text/html": [
       "<pre style=\"white-space:pre;overflow-x:auto;line-height:normal;font-family:Menlo,'DejaVu Sans Mono',consolas,'Courier New',monospace\"><span style=\"font-weight: bold\">Model: \"sequential_7\"</span>\n",
       "</pre>\n"
      ],
      "text/plain": [
       "\u001b[1mModel: \"sequential_7\"\u001b[0m\n"
      ]
     },
     "metadata": {},
     "output_type": "display_data"
    },
    {
     "data": {
      "text/html": [
       "<pre style=\"white-space:pre;overflow-x:auto;line-height:normal;font-family:Menlo,'DejaVu Sans Mono',consolas,'Courier New',monospace\">┏━━━━━━━━━━━━━━━━━━━━━━━━━━━━━━━━━┳━━━━━━━━━━━━━━━━━━━━━━━━┳━━━━━━━━━━━━━━━┓\n",
       "┃<span style=\"font-weight: bold\"> Layer (type)                    </span>┃<span style=\"font-weight: bold\"> Output Shape           </span>┃<span style=\"font-weight: bold\">       Param # </span>┃\n",
       "┡━━━━━━━━━━━━━━━━━━━━━━━━━━━━━━━━━╇━━━━━━━━━━━━━━━━━━━━━━━━╇━━━━━━━━━━━━━━━┩\n",
       "│ dense_19 (<span style=\"color: #0087ff; text-decoration-color: #0087ff\">Dense</span>)                │ (<span style=\"color: #00d7ff; text-decoration-color: #00d7ff\">None</span>, <span style=\"color: #00af00; text-decoration-color: #00af00\">128</span>)            │        <span style=\"color: #00af00; text-decoration-color: #00af00\">24,192</span> │\n",
       "├─────────────────────────────────┼────────────────────────┼───────────────┤\n",
       "│ dense_20 (<span style=\"color: #0087ff; text-decoration-color: #0087ff\">Dense</span>)                │ (<span style=\"color: #00d7ff; text-decoration-color: #00d7ff\">None</span>, <span style=\"color: #00af00; text-decoration-color: #00af00\">64</span>)             │         <span style=\"color: #00af00; text-decoration-color: #00af00\">8,256</span> │\n",
       "├─────────────────────────────────┼────────────────────────┼───────────────┤\n",
       "│ dense_21 (<span style=\"color: #0087ff; text-decoration-color: #0087ff\">Dense</span>)                │ (<span style=\"color: #00d7ff; text-decoration-color: #00d7ff\">None</span>, <span style=\"color: #00af00; text-decoration-color: #00af00\">32</span>)             │         <span style=\"color: #00af00; text-decoration-color: #00af00\">2,080</span> │\n",
       "├─────────────────────────────────┼────────────────────────┼───────────────┤\n",
       "│ dense_22 (<span style=\"color: #0087ff; text-decoration-color: #0087ff\">Dense</span>)                │ (<span style=\"color: #00d7ff; text-decoration-color: #00d7ff\">None</span>, <span style=\"color: #00af00; text-decoration-color: #00af00\">9</span>)              │           <span style=\"color: #00af00; text-decoration-color: #00af00\">297</span> │\n",
       "└─────────────────────────────────┴────────────────────────┴───────────────┘\n",
       "</pre>\n"
      ],
      "text/plain": [
       "┏━━━━━━━━━━━━━━━━━━━━━━━━━━━━━━━━━┳━━━━━━━━━━━━━━━━━━━━━━━━┳━━━━━━━━━━━━━━━┓\n",
       "┃\u001b[1m \u001b[0m\u001b[1mLayer (type)                   \u001b[0m\u001b[1m \u001b[0m┃\u001b[1m \u001b[0m\u001b[1mOutput Shape          \u001b[0m\u001b[1m \u001b[0m┃\u001b[1m \u001b[0m\u001b[1m      Param #\u001b[0m\u001b[1m \u001b[0m┃\n",
       "┡━━━━━━━━━━━━━━━━━━━━━━━━━━━━━━━━━╇━━━━━━━━━━━━━━━━━━━━━━━━╇━━━━━━━━━━━━━━━┩\n",
       "│ dense_19 (\u001b[38;5;33mDense\u001b[0m)                │ (\u001b[38;5;45mNone\u001b[0m, \u001b[38;5;34m128\u001b[0m)            │        \u001b[38;5;34m24,192\u001b[0m │\n",
       "├─────────────────────────────────┼────────────────────────┼───────────────┤\n",
       "│ dense_20 (\u001b[38;5;33mDense\u001b[0m)                │ (\u001b[38;5;45mNone\u001b[0m, \u001b[38;5;34m64\u001b[0m)             │         \u001b[38;5;34m8,256\u001b[0m │\n",
       "├─────────────────────────────────┼────────────────────────┼───────────────┤\n",
       "│ dense_21 (\u001b[38;5;33mDense\u001b[0m)                │ (\u001b[38;5;45mNone\u001b[0m, \u001b[38;5;34m32\u001b[0m)             │         \u001b[38;5;34m2,080\u001b[0m │\n",
       "├─────────────────────────────────┼────────────────────────┼───────────────┤\n",
       "│ dense_22 (\u001b[38;5;33mDense\u001b[0m)                │ (\u001b[38;5;45mNone\u001b[0m, \u001b[38;5;34m9\u001b[0m)              │           \u001b[38;5;34m297\u001b[0m │\n",
       "└─────────────────────────────────┴────────────────────────┴───────────────┘\n"
      ]
     },
     "metadata": {},
     "output_type": "display_data"
    },
    {
     "data": {
      "text/html": [
       "<pre style=\"white-space:pre;overflow-x:auto;line-height:normal;font-family:Menlo,'DejaVu Sans Mono',consolas,'Courier New',monospace\"><span style=\"font-weight: bold\"> Total params: </span><span style=\"color: #00af00; text-decoration-color: #00af00\">34,825</span> (136.04 KB)\n",
       "</pre>\n"
      ],
      "text/plain": [
       "\u001b[1m Total params: \u001b[0m\u001b[38;5;34m34,825\u001b[0m (136.04 KB)\n"
      ]
     },
     "metadata": {},
     "output_type": "display_data"
    },
    {
     "data": {
      "text/html": [
       "<pre style=\"white-space:pre;overflow-x:auto;line-height:normal;font-family:Menlo,'DejaVu Sans Mono',consolas,'Courier New',monospace\"><span style=\"font-weight: bold\"> Trainable params: </span><span style=\"color: #00af00; text-decoration-color: #00af00\">34,825</span> (136.04 KB)\n",
       "</pre>\n"
      ],
      "text/plain": [
       "\u001b[1m Trainable params: \u001b[0m\u001b[38;5;34m34,825\u001b[0m (136.04 KB)\n"
      ]
     },
     "metadata": {},
     "output_type": "display_data"
    },
    {
     "data": {
      "text/html": [
       "<pre style=\"white-space:pre;overflow-x:auto;line-height:normal;font-family:Menlo,'DejaVu Sans Mono',consolas,'Courier New',monospace\"><span style=\"font-weight: bold\"> Non-trainable params: </span><span style=\"color: #00af00; text-decoration-color: #00af00\">0</span> (0.00 B)\n",
       "</pre>\n"
      ],
      "text/plain": [
       "\u001b[1m Non-trainable params: \u001b[0m\u001b[38;5;34m0\u001b[0m (0.00 B)\n"
      ]
     },
     "metadata": {},
     "output_type": "display_data"
    }
   ],
   "source": [
    "Fnn = Sequential()\n",
    "Fnn.add(Dense(128,activation='relu',input_dim=(X_train.shape[1])))\n",
    "Fnn.add(Dense(64,activation='relu'))\n",
    "Fnn.add(Dense(32,activation='relu'))\n",
    "Fnn.add(Dense(y_train.shape[1],activation='softmax'))\n",
    "Fnn.compile(optimizer='adam',\n",
    "            loss='categorical_crossentropy',\n",
    "            metrics=['accuracy'])\n",
    "Fnn.summary()"
   ]
  },
  {
   "cell_type": "code",
   "execution_count": null,
   "metadata": {},
   "outputs": [],
   "source": [
    "X_train_reshape = X_train.reshape(-1, X_train.shape[1]*X_train.shape[2])\n",
    "X_test_reshape = X_test.reshape(-1, X_test.shape[1]*X_test.shape[2])"
   ]
  },
  {
   "cell_type": "code",
   "execution_count": 155,
   "id": "1e54faff",
   "metadata": {},
   "outputs": [
    {
     "name": "stdout",
     "output_type": "stream",
     "text": [
      "Epoch 1/100\n",
      "\u001b[1m17/17\u001b[0m \u001b[32m━━━━━━━━━━━━━━━━━━━━\u001b[0m\u001b[37m\u001b[0m \u001b[1m2s\u001b[0m 19ms/step - accuracy: 0.2379 - loss: 1.9675 - val_accuracy: 0.3793 - val_loss: 1.4543\n",
      "Epoch 2/100\n",
      "\u001b[1m17/17\u001b[0m \u001b[32m━━━━━━━━━━━━━━━━━━━━\u001b[0m\u001b[37m\u001b[0m \u001b[1m0s\u001b[0m 7ms/step - accuracy: 0.5860 - loss: 1.1849 - val_accuracy: 0.6207 - val_loss: 0.9671\n",
      "Epoch 3/100\n",
      "\u001b[1m17/17\u001b[0m \u001b[32m━━━━━━━━━━━━━━━━━━━━\u001b[0m\u001b[37m\u001b[0m \u001b[1m0s\u001b[0m 7ms/step - accuracy: 0.7608 - loss: 0.8160 - val_accuracy: 0.7069 - val_loss: 0.6793\n",
      "Epoch 4/100\n",
      "\u001b[1m17/17\u001b[0m \u001b[32m━━━━━━━━━━━━━━━━━━━━\u001b[0m\u001b[37m\u001b[0m \u001b[1m0s\u001b[0m 6ms/step - accuracy: 0.8361 - loss: 0.4991 - val_accuracy: 0.7586 - val_loss: 0.5066\n",
      "Epoch 5/100\n",
      "\u001b[1m17/17\u001b[0m \u001b[32m━━━━━━━━━━━━━━━━━━━━\u001b[0m\u001b[37m\u001b[0m \u001b[1m0s\u001b[0m 6ms/step - accuracy: 0.8613 - loss: 0.3776 - val_accuracy: 0.8276 - val_loss: 0.3704\n",
      "Epoch 6/100\n",
      "\u001b[1m17/17\u001b[0m \u001b[32m━━━━━━━━━━━━━━━━━━━━\u001b[0m\u001b[37m\u001b[0m \u001b[1m0s\u001b[0m 6ms/step - accuracy: 0.8583 - loss: 0.3399 - val_accuracy: 0.7931 - val_loss: 0.5074\n",
      "Epoch 7/100\n",
      "\u001b[1m17/17\u001b[0m \u001b[32m━━━━━━━━━━━━━━━━━━━━\u001b[0m\u001b[37m\u001b[0m \u001b[1m0s\u001b[0m 6ms/step - accuracy: 0.9121 - loss: 0.2889 - val_accuracy: 0.7931 - val_loss: 0.4171\n",
      "Epoch 8/100\n",
      "\u001b[1m17/17\u001b[0m \u001b[32m━━━━━━━━━━━━━━━━━━━━\u001b[0m\u001b[37m\u001b[0m \u001b[1m0s\u001b[0m 6ms/step - accuracy: 0.9001 - loss: 0.2555 - val_accuracy: 0.8448 - val_loss: 0.3789\n",
      "Epoch 9/100\n",
      "\u001b[1m17/17\u001b[0m \u001b[32m━━━━━━━━━━━━━━━━━━━━\u001b[0m\u001b[37m\u001b[0m \u001b[1m0s\u001b[0m 8ms/step - accuracy: 0.9258 - loss: 0.2325 - val_accuracy: 0.8621 - val_loss: 0.2972\n",
      "Epoch 10/100\n",
      "\u001b[1m17/17\u001b[0m \u001b[32m━━━━━━━━━━━━━━━━━━━━\u001b[0m\u001b[37m\u001b[0m \u001b[1m0s\u001b[0m 6ms/step - accuracy: 0.9204 - loss: 0.2214 - val_accuracy: 0.8103 - val_loss: 0.3914\n",
      "Epoch 11/100\n",
      "\u001b[1m17/17\u001b[0m \u001b[32m━━━━━━━━━━━━━━━━━━━━\u001b[0m\u001b[37m\u001b[0m \u001b[1m0s\u001b[0m 6ms/step - accuracy: 0.9159 - loss: 0.2244 - val_accuracy: 0.8448 - val_loss: 0.3841\n",
      "Epoch 12/100\n",
      "\u001b[1m17/17\u001b[0m \u001b[32m━━━━━━━━━━━━━━━━━━━━\u001b[0m\u001b[37m\u001b[0m \u001b[1m0s\u001b[0m 5ms/step - accuracy: 0.9386 - loss: 0.1911 - val_accuracy: 0.8448 - val_loss: 0.3547\n",
      "Epoch 13/100\n",
      "\u001b[1m17/17\u001b[0m \u001b[32m━━━━━━━━━━━━━━━━━━━━\u001b[0m\u001b[37m\u001b[0m \u001b[1m0s\u001b[0m 5ms/step - accuracy: 0.9204 - loss: 0.1994 - val_accuracy: 0.7931 - val_loss: 0.4797\n",
      "Epoch 14/100\n",
      "\u001b[1m17/17\u001b[0m \u001b[32m━━━━━━━━━━━━━━━━━━━━\u001b[0m\u001b[37m\u001b[0m \u001b[1m0s\u001b[0m 6ms/step - accuracy: 0.9110 - loss: 0.2240 - val_accuracy: 0.7414 - val_loss: 0.6532\n",
      "Epoch 14: early stopping\n"
     ]
    }
   ],
   "source": [
    "Fnn_history = Fnn.fit(X_train_reshape,y_train,epochs=100,validation_split=0.1,callbacks=[early_stopping])"
   ]
  },
  {
   "cell_type": "code",
   "execution_count": 157,
   "id": "612976f4",
   "metadata": {},
   "outputs": [
    {
     "name": "stdout",
     "output_type": "stream",
     "text": [
      "\u001b[1m5/5\u001b[0m \u001b[32m━━━━━━━━━━━━━━━━━━━━\u001b[0m\u001b[37m\u001b[0m \u001b[1m0s\u001b[0m 5ms/step \n",
      "-----------FNN-----------\n",
      "정확도: 0.38620689655172413\n",
      "혼동행렬:\n",
      " [[10  0  0  0  0  0  0  1]\n",
      " [ 0  8  0  0  0  0  0  0]\n",
      " [ 0  0  0  0 27  0  0  0]\n",
      " [ 1 24  0  0  0  2 30  0]\n",
      " [ 0  0  0  0  5  0  0  0]\n",
      " [ 0  0  0  0  1 20  1  0]\n",
      " [ 0  0  0  0  0  0  0  0]\n",
      " [ 0  0  0  0  2  0  0 13]]\n",
      "분류보고서\n",
      "               precision    recall  f1-score   support\n",
      "\n",
      "           0       0.91      0.91      0.91        11\n",
      "           1       0.25      1.00      0.40         8\n",
      "           2       0.00      0.00      0.00        27\n",
      "           3       0.00      0.00      0.00        57\n",
      "           4       0.14      1.00      0.25         5\n",
      "           5       0.91      0.91      0.91        22\n",
      "           6       0.00      0.00      0.00         0\n",
      "           7       0.93      0.87      0.90        15\n",
      "\n",
      "    accuracy                           0.39       145\n",
      "   macro avg       0.39      0.59      0.42       145\n",
      "weighted avg       0.32      0.39      0.33       145\n",
      "\n"
     ]
    },
    {
     "name": "stderr",
     "output_type": "stream",
     "text": [
      "c:\\Users\\rnrgh\\OneDrive\\바탕 화면\\Second_Project\\.venv\\Lib\\site-packages\\sklearn\\metrics\\_classification.py:1565: UndefinedMetricWarning: Precision is ill-defined and being set to 0.0 in labels with no predicted samples. Use `zero_division` parameter to control this behavior.\n",
      "  _warn_prf(average, modifier, f\"{metric.capitalize()} is\", len(result))\n",
      "c:\\Users\\rnrgh\\OneDrive\\바탕 화면\\Second_Project\\.venv\\Lib\\site-packages\\sklearn\\metrics\\_classification.py:1565: UndefinedMetricWarning: Recall is ill-defined and being set to 0.0 in labels with no true samples. Use `zero_division` parameter to control this behavior.\n",
      "  _warn_prf(average, modifier, f\"{metric.capitalize()} is\", len(result))\n",
      "c:\\Users\\rnrgh\\OneDrive\\바탕 화면\\Second_Project\\.venv\\Lib\\site-packages\\sklearn\\metrics\\_classification.py:1565: UndefinedMetricWarning: Precision is ill-defined and being set to 0.0 in labels with no predicted samples. Use `zero_division` parameter to control this behavior.\n",
      "  _warn_prf(average, modifier, f\"{metric.capitalize()} is\", len(result))\n",
      "c:\\Users\\rnrgh\\OneDrive\\바탕 화면\\Second_Project\\.venv\\Lib\\site-packages\\sklearn\\metrics\\_classification.py:1565: UndefinedMetricWarning: Recall is ill-defined and being set to 0.0 in labels with no true samples. Use `zero_division` parameter to control this behavior.\n",
      "  _warn_prf(average, modifier, f\"{metric.capitalize()} is\", len(result))\n",
      "c:\\Users\\rnrgh\\OneDrive\\바탕 화면\\Second_Project\\.venv\\Lib\\site-packages\\sklearn\\metrics\\_classification.py:1565: UndefinedMetricWarning: Precision is ill-defined and being set to 0.0 in labels with no predicted samples. Use `zero_division` parameter to control this behavior.\n",
      "  _warn_prf(average, modifier, f\"{metric.capitalize()} is\", len(result))\n",
      "c:\\Users\\rnrgh\\OneDrive\\바탕 화면\\Second_Project\\.venv\\Lib\\site-packages\\sklearn\\metrics\\_classification.py:1565: UndefinedMetricWarning: Recall is ill-defined and being set to 0.0 in labels with no true samples. Use `zero_division` parameter to control this behavior.\n",
      "  _warn_prf(average, modifier, f\"{metric.capitalize()} is\", len(result))\n"
     ]
    }
   ],
   "source": [
    "y_pred = Fnn.predict(X_test_reshape)\n",
    "y_pred = np.argmax(y_pred,axis=1)\n",
    "print('-----------FNN-----------')\n",
    "print(\"정확도:\",accuracy_score(y_test_raw,y_pred))\n",
    "print(\"혼동행렬:\\n\",confusion_matrix(y_test_raw,y_pred))\n",
    "print('분류보고서\\n',classification_report(y_test_raw,y_pred))"
   ]
  },
  {
   "cell_type": "code",
   "execution_count": 180,
   "id": "e0c1203e",
   "metadata": {},
   "outputs": [
    {
     "name": "stderr",
     "output_type": "stream",
     "text": [
      "c:\\Users\\rnrgh\\OneDrive\\바탕 화면\\Second_Project\\.venv\\Lib\\site-packages\\keras\\src\\layers\\convolutional\\base_conv.py:107: UserWarning: Do not pass an `input_shape`/`input_dim` argument to a layer. When using Sequential models, prefer using an `Input(shape)` object as the first layer in the model instead.\n",
      "  super().__init__(activity_regularizer=activity_regularizer, **kwargs)\n"
     ]
    }
   ],
   "source": [
    "Cnn =Sequential()\n",
    "Cnn.add(Conv1D(64,3, activation='relu', input_shape=(X_train.shape[1],X_train.shape[2])))\n",
    "Cnn.add(MaxPooling1D(2))\n",
    "Cnn.add(Flatten())\n",
    "Cnn.add(Dense(32,activation = 'relu'))\n",
    "Cnn.add(Dense(y_train.shape[1],activation='softmax'))"
   ]
  },
  {
   "cell_type": "code",
   "execution_count": 166,
   "id": "c726b585",
   "metadata": {},
   "outputs": [
    {
     "data": {
      "text/plain": [
       "(578, 9)"
      ]
     },
     "execution_count": 166,
     "metadata": {},
     "output_type": "execute_result"
    }
   ],
   "source": [
    "y_train.shape"
   ]
  },
  {
   "cell_type": "code",
   "execution_count": 175,
   "id": "dcb0a411",
   "metadata": {},
   "outputs": [],
   "source": [
    "# model=Sequential([\n",
    "#             Conv1D(64,3, activation='relu', input_shape=(self.window_size,4)),\n",
    "#             Conv1D(32,3,activation='relu'),\n",
    "#             Flatten(),\n",
    "#             Dense(50,activation='relu'),\n",
    "#             Dense(1)\n",
    "#         ])\n",
    "#         model.compile(optimizer='adam',loss='mse')"
   ]
  },
  {
   "cell_type": "code",
   "execution_count": null,
   "id": "8be829e0",
   "metadata": {},
   "outputs": [],
   "source": [
    "Cnn.compile(optimizer='adam',\n",
    "            loss='categorical_crossentropy',\n",
    "            metrics=['accuracy'])\n",
    "Cnn.summary()\n",
    "Cnn_history = Cnn.fit(X_train,y_train,epochs=100,validation_split=0.1,callbacks=[early_stopping])"
   ]
  },
  {
   "cell_type": "code",
   "execution_count": null,
   "id": "8fdc6e4e",
   "metadata": {},
   "outputs": [],
   "source": [
    "y_pred = Cnn.predict(X_test)\n",
    "y_pred = np.argmax(y_pred,axis=1)\n",
    "print('-----------CNN-----------')\n",
    "print(\"정확도:\",accuracy_score(y_test_raw,y_pred))\n",
    "print(\"혼동행렬:\\n\",confusion_matrix(y_test_raw,y_pred))\n",
    "print('분류보고서\\n',classification_report(y_test_raw,y_pred))"
   ]
  },
  {
   "cell_type": "code",
   "execution_count": 169,
   "metadata": {},
   "outputs": [],
   "source": [
    "Rnn = Sequential()\n",
    "Rnn.add(SimpleRNN(32, activation='relu', input_shape=(4,47)))\n",
    "Rnn. add(Dense(9,activation='softmax'))\n",
    "Rnn.compile(optimizer='adam',\n",
    "            loss='categorical_crossentropy',\n",
    "            metrics=['accuracy'])\n"
   ]
  },
  {
   "cell_type": "code",
   "execution_count": 173,
   "metadata": {},
   "outputs": [
    {
     "data": {
      "text/html": [
       "<pre style=\"white-space:pre;overflow-x:auto;line-height:normal;font-family:Menlo,'DejaVu Sans Mono',consolas,'Courier New',monospace\"><span style=\"font-weight: bold\">Model: \"sequential_12\"</span>\n",
       "</pre>\n"
      ],
      "text/plain": [
       "\u001b[1mModel: \"sequential_12\"\u001b[0m\n"
      ]
     },
     "metadata": {},
     "output_type": "display_data"
    },
    {
     "data": {
      "text/html": [
       "<pre style=\"white-space:pre;overflow-x:auto;line-height:normal;font-family:Menlo,'DejaVu Sans Mono',consolas,'Courier New',monospace\">┏━━━━━━━━━━━━━━━━━━━━━━━━━━━━━━━━━┳━━━━━━━━━━━━━━━━━━━━━━━━┳━━━━━━━━━━━━━━━┓\n",
       "┃<span style=\"font-weight: bold\"> Layer (type)                    </span>┃<span style=\"font-weight: bold\"> Output Shape           </span>┃<span style=\"font-weight: bold\">       Param # </span>┃\n",
       "┡━━━━━━━━━━━━━━━━━━━━━━━━━━━━━━━━━╇━━━━━━━━━━━━━━━━━━━━━━━━╇━━━━━━━━━━━━━━━┩\n",
       "│ simple_rnn_3 (<span style=\"color: #0087ff; text-decoration-color: #0087ff\">SimpleRNN</span>)        │ (<span style=\"color: #00d7ff; text-decoration-color: #00d7ff\">None</span>, <span style=\"color: #00af00; text-decoration-color: #00af00\">32</span>)             │         <span style=\"color: #00af00; text-decoration-color: #00af00\">2,560</span> │\n",
       "├─────────────────────────────────┼────────────────────────┼───────────────┤\n",
       "│ dense_26 (<span style=\"color: #0087ff; text-decoration-color: #0087ff\">Dense</span>)                │ (<span style=\"color: #00d7ff; text-decoration-color: #00d7ff\">None</span>, <span style=\"color: #00af00; text-decoration-color: #00af00\">9</span>)              │           <span style=\"color: #00af00; text-decoration-color: #00af00\">297</span> │\n",
       "└─────────────────────────────────┴────────────────────────┴───────────────┘\n",
       "</pre>\n"
      ],
      "text/plain": [
       "┏━━━━━━━━━━━━━━━━━━━━━━━━━━━━━━━━━┳━━━━━━━━━━━━━━━━━━━━━━━━┳━━━━━━━━━━━━━━━┓\n",
       "┃\u001b[1m \u001b[0m\u001b[1mLayer (type)                   \u001b[0m\u001b[1m \u001b[0m┃\u001b[1m \u001b[0m\u001b[1mOutput Shape          \u001b[0m\u001b[1m \u001b[0m┃\u001b[1m \u001b[0m\u001b[1m      Param #\u001b[0m\u001b[1m \u001b[0m┃\n",
       "┡━━━━━━━━━━━━━━━━━━━━━━━━━━━━━━━━━╇━━━━━━━━━━━━━━━━━━━━━━━━╇━━━━━━━━━━━━━━━┩\n",
       "│ simple_rnn_3 (\u001b[38;5;33mSimpleRNN\u001b[0m)        │ (\u001b[38;5;45mNone\u001b[0m, \u001b[38;5;34m32\u001b[0m)             │         \u001b[38;5;34m2,560\u001b[0m │\n",
       "├─────────────────────────────────┼────────────────────────┼───────────────┤\n",
       "│ dense_26 (\u001b[38;5;33mDense\u001b[0m)                │ (\u001b[38;5;45mNone\u001b[0m, \u001b[38;5;34m9\u001b[0m)              │           \u001b[38;5;34m297\u001b[0m │\n",
       "└─────────────────────────────────┴────────────────────────┴───────────────┘\n"
      ]
     },
     "metadata": {},
     "output_type": "display_data"
    },
    {
     "data": {
      "text/html": [
       "<pre style=\"white-space:pre;overflow-x:auto;line-height:normal;font-family:Menlo,'DejaVu Sans Mono',consolas,'Courier New',monospace\"><span style=\"font-weight: bold\"> Total params: </span><span style=\"color: #00af00; text-decoration-color: #00af00\">2,857</span> (11.16 KB)\n",
       "</pre>\n"
      ],
      "text/plain": [
       "\u001b[1m Total params: \u001b[0m\u001b[38;5;34m2,857\u001b[0m (11.16 KB)\n"
      ]
     },
     "metadata": {},
     "output_type": "display_data"
    },
    {
     "data": {
      "text/html": [
       "<pre style=\"white-space:pre;overflow-x:auto;line-height:normal;font-family:Menlo,'DejaVu Sans Mono',consolas,'Courier New',monospace\"><span style=\"font-weight: bold\"> Trainable params: </span><span style=\"color: #00af00; text-decoration-color: #00af00\">2,857</span> (11.16 KB)\n",
       "</pre>\n"
      ],
      "text/plain": [
       "\u001b[1m Trainable params: \u001b[0m\u001b[38;5;34m2,857\u001b[0m (11.16 KB)\n"
      ]
     },
     "metadata": {},
     "output_type": "display_data"
    },
    {
     "data": {
      "text/html": [
       "<pre style=\"white-space:pre;overflow-x:auto;line-height:normal;font-family:Menlo,'DejaVu Sans Mono',consolas,'Courier New',monospace\"><span style=\"font-weight: bold\"> Non-trainable params: </span><span style=\"color: #00af00; text-decoration-color: #00af00\">0</span> (0.00 B)\n",
       "</pre>\n"
      ],
      "text/plain": [
       "\u001b[1m Non-trainable params: \u001b[0m\u001b[38;5;34m0\u001b[0m (0.00 B)\n"
      ]
     },
     "metadata": {},
     "output_type": "display_data"
    },
    {
     "name": "stdout",
     "output_type": "stream",
     "text": [
      "Epoch 1/100\n",
      "\u001b[1m17/17\u001b[0m \u001b[32m━━━━━━━━━━━━━━━━━━━━\u001b[0m\u001b[37m\u001b[0m \u001b[1m2s\u001b[0m 25ms/step - accuracy: 0.0865 - loss: 2.2594 - val_accuracy: 0.1379 - val_loss: 2.1386\n",
      "Epoch 2/100\n",
      "\u001b[1m17/17\u001b[0m \u001b[32m━━━━━━━━━━━━━━━━━━━━\u001b[0m\u001b[37m\u001b[0m \u001b[1m0s\u001b[0m 6ms/step - accuracy: 0.3312 - loss: 1.8214 - val_accuracy: 0.3276 - val_loss: 1.8687\n",
      "Epoch 3/100\n",
      "\u001b[1m17/17\u001b[0m \u001b[32m━━━━━━━━━━━━━━━━━━━━\u001b[0m\u001b[37m\u001b[0m \u001b[1m0s\u001b[0m 6ms/step - accuracy: 0.5082 - loss: 1.6093 - val_accuracy: 0.3621 - val_loss: 1.6126\n",
      "Epoch 4/100\n",
      "\u001b[1m17/17\u001b[0m \u001b[32m━━━━━━━━━━━━━━━━━━━━\u001b[0m\u001b[37m\u001b[0m \u001b[1m0s\u001b[0m 6ms/step - accuracy: 0.5499 - loss: 1.4325 - val_accuracy: 0.4483 - val_loss: 1.3739\n",
      "Epoch 5/100\n",
      "\u001b[1m17/17\u001b[0m \u001b[32m━━━━━━━━━━━━━━━━━━━━\u001b[0m\u001b[37m\u001b[0m \u001b[1m0s\u001b[0m 10ms/step - accuracy: 0.6416 - loss: 1.1760 - val_accuracy: 0.5345 - val_loss: 1.0822\n",
      "Epoch 6/100\n",
      "\u001b[1m17/17\u001b[0m \u001b[32m━━━━━━━━━━━━━━━━━━━━\u001b[0m\u001b[37m\u001b[0m \u001b[1m0s\u001b[0m 6ms/step - accuracy: 0.7451 - loss: 0.8440 - val_accuracy: 0.7586 - val_loss: 0.7975\n",
      "Epoch 7/100\n",
      "\u001b[1m17/17\u001b[0m \u001b[32m━━━━━━━━━━━━━━━━━━━━\u001b[0m\u001b[37m\u001b[0m \u001b[1m0s\u001b[0m 7ms/step - accuracy: 0.7994 - loss: 0.6452 - val_accuracy: 0.7759 - val_loss: 0.7005\n",
      "Epoch 8/100\n",
      "\u001b[1m17/17\u001b[0m \u001b[32m━━━━━━━━━━━━━━━━━━━━\u001b[0m\u001b[37m\u001b[0m \u001b[1m0s\u001b[0m 6ms/step - accuracy: 0.8356 - loss: 0.5228 - val_accuracy: 0.8103 - val_loss: 0.5637\n",
      "Epoch 9/100\n",
      "\u001b[1m17/17\u001b[0m \u001b[32m━━━━━━━━━━━━━━━━━━━━\u001b[0m\u001b[37m\u001b[0m \u001b[1m0s\u001b[0m 6ms/step - accuracy: 0.8800 - loss: 0.4198 - val_accuracy: 0.7414 - val_loss: 0.6269\n",
      "Epoch 10/100\n",
      "\u001b[1m17/17\u001b[0m \u001b[32m━━━━━━━━━━━━━━━━━━━━\u001b[0m\u001b[37m\u001b[0m \u001b[1m0s\u001b[0m 7ms/step - accuracy: 0.8955 - loss: 0.3618 - val_accuracy: 0.7931 - val_loss: 0.4983\n",
      "Epoch 11/100\n",
      "\u001b[1m17/17\u001b[0m \u001b[32m━━━━━━━━━━━━━━━━━━━━\u001b[0m\u001b[37m\u001b[0m \u001b[1m0s\u001b[0m 7ms/step - accuracy: 0.9048 - loss: 0.3354 - val_accuracy: 0.8276 - val_loss: 0.4438\n",
      "Epoch 12/100\n",
      "\u001b[1m17/17\u001b[0m \u001b[32m━━━━━━━━━━━━━━━━━━━━\u001b[0m\u001b[37m\u001b[0m \u001b[1m0s\u001b[0m 6ms/step - accuracy: 0.9049 - loss: 0.2972 - val_accuracy: 0.8276 - val_loss: 0.4463\n",
      "Epoch 13/100\n",
      "\u001b[1m17/17\u001b[0m \u001b[32m━━━━━━━━━━━━━━━━━━━━\u001b[0m\u001b[37m\u001b[0m \u001b[1m0s\u001b[0m 11ms/step - accuracy: 0.9125 - loss: 0.2914 - val_accuracy: 0.8103 - val_loss: 0.5345\n",
      "Epoch 14/100\n",
      "\u001b[1m17/17\u001b[0m \u001b[32m━━━━━━━━━━━━━━━━━━━━\u001b[0m\u001b[37m\u001b[0m \u001b[1m0s\u001b[0m 6ms/step - accuracy: 0.9180 - loss: 0.2832 - val_accuracy: 0.8276 - val_loss: 0.5007\n",
      "Epoch 15/100\n",
      "\u001b[1m17/17\u001b[0m \u001b[32m━━━━━━━━━━━━━━━━━━━━\u001b[0m\u001b[37m\u001b[0m \u001b[1m0s\u001b[0m 6ms/step - accuracy: 0.8988 - loss: 0.2734 - val_accuracy: 0.8103 - val_loss: 0.4009\n",
      "Epoch 16/100\n",
      "\u001b[1m17/17\u001b[0m \u001b[32m━━━━━━━━━━━━━━━━━━━━\u001b[0m\u001b[37m\u001b[0m \u001b[1m0s\u001b[0m 6ms/step - accuracy: 0.9259 - loss: 0.2409 - val_accuracy: 0.7931 - val_loss: 0.4889\n",
      "Epoch 17/100\n",
      "\u001b[1m17/17\u001b[0m \u001b[32m━━━━━━━━━━━━━━━━━━━━\u001b[0m\u001b[37m\u001b[0m \u001b[1m0s\u001b[0m 6ms/step - accuracy: 0.9304 - loss: 0.2375 - val_accuracy: 0.7931 - val_loss: 0.4413\n",
      "Epoch 18/100\n",
      "\u001b[1m17/17\u001b[0m \u001b[32m━━━━━━━━━━━━━━━━━━━━\u001b[0m\u001b[37m\u001b[0m \u001b[1m0s\u001b[0m 6ms/step - accuracy: 0.9080 - loss: 0.2276 - val_accuracy: 0.8621 - val_loss: 0.3853\n",
      "Epoch 19/100\n",
      "\u001b[1m17/17\u001b[0m \u001b[32m━━━━━━━━━━━━━━━━━━━━\u001b[0m\u001b[37m\u001b[0m \u001b[1m0s\u001b[0m 6ms/step - accuracy: 0.9133 - loss: 0.2226 - val_accuracy: 0.8276 - val_loss: 0.3706\n",
      "Epoch 20/100\n",
      "\u001b[1m17/17\u001b[0m \u001b[32m━━━━━━━━━━━━━━━━━━━━\u001b[0m\u001b[37m\u001b[0m \u001b[1m0s\u001b[0m 6ms/step - accuracy: 0.9446 - loss: 0.1878 - val_accuracy: 0.7759 - val_loss: 0.6024\n",
      "Epoch 21/100\n",
      "\u001b[1m17/17\u001b[0m \u001b[32m━━━━━━━━━━━━━━━━━━━━\u001b[0m\u001b[37m\u001b[0m \u001b[1m0s\u001b[0m 6ms/step - accuracy: 0.9305 - loss: 0.1899 - val_accuracy: 0.8621 - val_loss: 0.3025\n",
      "Epoch 22/100\n",
      "\u001b[1m17/17\u001b[0m \u001b[32m━━━━━━━━━━━━━━━━━━━━\u001b[0m\u001b[37m\u001b[0m \u001b[1m0s\u001b[0m 6ms/step - accuracy: 0.9394 - loss: 0.1697 - val_accuracy: 0.8276 - val_loss: 0.4570\n",
      "Epoch 23/100\n",
      "\u001b[1m17/17\u001b[0m \u001b[32m━━━━━━━━━━━━━━━━━━━━\u001b[0m\u001b[37m\u001b[0m \u001b[1m0s\u001b[0m 6ms/step - accuracy: 0.9081 - loss: 0.2314 - val_accuracy: 0.8103 - val_loss: 0.5316\n",
      "Epoch 24/100\n",
      "\u001b[1m17/17\u001b[0m \u001b[32m━━━━━━━━━━━━━━━━━━━━\u001b[0m\u001b[37m\u001b[0m \u001b[1m0s\u001b[0m 6ms/step - accuracy: 0.9018 - loss: 0.2459 - val_accuracy: 0.8103 - val_loss: 0.4806\n",
      "Epoch 25/100\n",
      "\u001b[1m17/17\u001b[0m \u001b[32m━━━━━━━━━━━━━━━━━━━━\u001b[0m\u001b[37m\u001b[0m \u001b[1m0s\u001b[0m 7ms/step - accuracy: 0.9241 - loss: 0.1816 - val_accuracy: 0.7931 - val_loss: 0.5260\n",
      "Epoch 26/100\n",
      "\u001b[1m17/17\u001b[0m \u001b[32m━━━━━━━━━━━━━━━━━━━━\u001b[0m\u001b[37m\u001b[0m \u001b[1m0s\u001b[0m 7ms/step - accuracy: 0.9450 - loss: 0.1765 - val_accuracy: 0.8103 - val_loss: 0.4558\n",
      "Epoch 26: early stopping\n"
     ]
    }
   ],
   "source": [
    "Rnn.summary()\n",
    "Rnn_history = Rnn.fit(X_train,y_train,epochs=100,validation_split=0.1,callbacks=[early_stopping])"
   ]
  },
  {
   "cell_type": "code",
   "execution_count": 174,
   "metadata": {},
   "outputs": [
    {
     "name": "stdout",
     "output_type": "stream",
     "text": [
      "\u001b[1m5/5\u001b[0m \u001b[32m━━━━━━━━━━━━━━━━━━━━\u001b[0m\u001b[37m\u001b[0m \u001b[1m0s\u001b[0m 37ms/step\n",
      "-----------RNN-----------\n",
      "정확도: 0.32413793103448274\n",
      "혼동행렬:\n",
      " [[ 6  5  0  0  0  0  0  0]\n",
      " [ 0  8  0  0  0  0  0  0]\n",
      " [ 0  0  0  0 24  3  0  0]\n",
      " [ 0 20  0  0  0  0 37  0]\n",
      " [ 0  0  0  0  5  0  0  0]\n",
      " [ 0  0  0  0  0 16  6  0]\n",
      " [ 0  0  0  0  0  0  0  0]\n",
      " [ 1  0  0  0  2  0  0 12]]\n",
      "분류보고서\n",
      "               precision    recall  f1-score   support\n",
      "\n",
      "           0       0.86      0.55      0.67        11\n",
      "           1       0.24      1.00      0.39         8\n",
      "           2       0.00      0.00      0.00        27\n",
      "           3       0.00      0.00      0.00        57\n",
      "           4       0.16      1.00      0.28         5\n",
      "           5       0.84      0.73      0.78        22\n",
      "           6       0.00      0.00      0.00         0\n",
      "           7       1.00      0.80      0.89        15\n",
      "\n",
      "    accuracy                           0.32       145\n",
      "   macro avg       0.39      0.51      0.38       145\n",
      "weighted avg       0.32      0.32      0.29       145\n",
      "\n"
     ]
    },
    {
     "name": "stderr",
     "output_type": "stream",
     "text": [
      "c:\\Users\\rnrgh\\OneDrive\\바탕 화면\\Second_Project\\.venv\\Lib\\site-packages\\sklearn\\metrics\\_classification.py:1565: UndefinedMetricWarning: Precision is ill-defined and being set to 0.0 in labels with no predicted samples. Use `zero_division` parameter to control this behavior.\n",
      "  _warn_prf(average, modifier, f\"{metric.capitalize()} is\", len(result))\n",
      "c:\\Users\\rnrgh\\OneDrive\\바탕 화면\\Second_Project\\.venv\\Lib\\site-packages\\sklearn\\metrics\\_classification.py:1565: UndefinedMetricWarning: Recall is ill-defined and being set to 0.0 in labels with no true samples. Use `zero_division` parameter to control this behavior.\n",
      "  _warn_prf(average, modifier, f\"{metric.capitalize()} is\", len(result))\n",
      "c:\\Users\\rnrgh\\OneDrive\\바탕 화면\\Second_Project\\.venv\\Lib\\site-packages\\sklearn\\metrics\\_classification.py:1565: UndefinedMetricWarning: Precision is ill-defined and being set to 0.0 in labels with no predicted samples. Use `zero_division` parameter to control this behavior.\n",
      "  _warn_prf(average, modifier, f\"{metric.capitalize()} is\", len(result))\n",
      "c:\\Users\\rnrgh\\OneDrive\\바탕 화면\\Second_Project\\.venv\\Lib\\site-packages\\sklearn\\metrics\\_classification.py:1565: UndefinedMetricWarning: Recall is ill-defined and being set to 0.0 in labels with no true samples. Use `zero_division` parameter to control this behavior.\n",
      "  _warn_prf(average, modifier, f\"{metric.capitalize()} is\", len(result))\n",
      "c:\\Users\\rnrgh\\OneDrive\\바탕 화면\\Second_Project\\.venv\\Lib\\site-packages\\sklearn\\metrics\\_classification.py:1565: UndefinedMetricWarning: Precision is ill-defined and being set to 0.0 in labels with no predicted samples. Use `zero_division` parameter to control this behavior.\n",
      "  _warn_prf(average, modifier, f\"{metric.capitalize()} is\", len(result))\n",
      "c:\\Users\\rnrgh\\OneDrive\\바탕 화면\\Second_Project\\.venv\\Lib\\site-packages\\sklearn\\metrics\\_classification.py:1565: UndefinedMetricWarning: Recall is ill-defined and being set to 0.0 in labels with no true samples. Use `zero_division` parameter to control this behavior.\n",
      "  _warn_prf(average, modifier, f\"{metric.capitalize()} is\", len(result))\n"
     ]
    }
   ],
   "source": [
    "y_pred = Rnn.predict(X_test)\n",
    "y_pred = np.argmax(y_pred,axis=1)\n",
    "print('-----------RNN-----------')\n",
    "print(\"정확도:\",accuracy_score(y_test_raw,y_pred))\n",
    "print(\"혼동행렬:\\n\",confusion_matrix(y_test_raw,y_pred))\n",
    "print('분류보고서\\n',classification_report(y_test_raw,y_pred))"
   ]
  },
  {
   "cell_type": "code",
   "execution_count": 179,
   "metadata": {},
   "outputs": [
    {
     "data": {
      "text/plain": [
       "4"
      ]
     },
     "execution_count": 179,
     "metadata": {},
     "output_type": "execute_result"
    }
   ],
   "source": [
    "X_train.shape[1]"
   ]
  },
  {
   "cell_type": "code",
   "execution_count": 183,
   "metadata": {},
   "outputs": [
    {
     "name": "stdout",
     "output_type": "stream",
     "text": [
      "Help on class LSTM in module keras.src.layers.rnn.lstm:\n",
      "\n",
      "class LSTM(keras.src.layers.rnn.rnn.RNN)\n",
      " |  LSTM(units, activation='tanh', recurrent_activation='sigmoid', use_bias=True, kernel_initializer='glorot_uniform', recurrent_initializer='orthogonal', bias_initializer='zeros', unit_forget_bias=True, kernel_regularizer=None, recurrent_regularizer=None, bias_regularizer=None, activity_regularizer=None, kernel_constraint=None, recurrent_constraint=None, bias_constraint=None, dropout=0.0, recurrent_dropout=0.0, seed=None, return_sequences=False, return_state=False, go_backwards=False, stateful=False, unroll=False, use_cudnn='auto', **kwargs)\n",
      " |  \n",
      " |  Long Short-Term Memory layer - Hochreiter 1997.\n",
      " |  \n",
      " |  Based on available runtime hardware and constraints, this layer\n",
      " |  will choose different implementations (cuDNN-based or backend-native)\n",
      " |  to maximize the performance. If a GPU is available and all\n",
      " |  the arguments to the layer meet the requirement of the cuDNN kernel\n",
      " |  (see below for details), the layer will use a fast cuDNN implementation\n",
      " |  when using the TensorFlow backend.\n",
      " |  The requirements to use the cuDNN implementation are:\n",
      " |  \n",
      " |  1. `activation` == `tanh`\n",
      " |  2. `recurrent_activation` == `sigmoid`\n",
      " |  3. `recurrent_dropout` == 0\n",
      " |  4. `unroll` is `False`\n",
      " |  5. `use_bias` is `True`\n",
      " |  6. Inputs, if use masking, are strictly right-padded.\n",
      " |  7. Eager execution is enabled in the outermost context.\n",
      " |  \n",
      " |  For example:\n",
      " |  \n",
      " |  >>> inputs = np.random.random((32, 10, 8))\n",
      " |  >>> lstm = keras.layers.LSTM(4)\n",
      " |  >>> output = lstm(inputs)\n",
      " |  >>> output.shape\n",
      " |  (32, 4)\n",
      " |  >>> lstm = keras.layers.LSTM(\n",
      " |  ...     4, return_sequences=True, return_state=True)\n",
      " |  >>> whole_seq_output, final_memory_state, final_carry_state = lstm(inputs)\n",
      " |  >>> whole_seq_output.shape\n",
      " |  (32, 10, 4)\n",
      " |  >>> final_memory_state.shape\n",
      " |  (32, 4)\n",
      " |  >>> final_carry_state.shape\n",
      " |  (32, 4)\n",
      " |  \n",
      " |  Args:\n",
      " |      units: Positive integer, dimensionality of the output space.\n",
      " |      activation: Activation function to use.\n",
      " |          Default: hyperbolic tangent (`tanh`).\n",
      " |          If you pass `None`, no activation is applied\n",
      " |          (ie. \"linear\" activation: `a(x) = x`).\n",
      " |      recurrent_activation: Activation function to use\n",
      " |          for the recurrent step.\n",
      " |          Default: sigmoid (`sigmoid`).\n",
      " |          If you pass `None`, no activation is applied\n",
      " |          (ie. \"linear\" activation: `a(x) = x`).\n",
      " |      use_bias: Boolean, (default `True`), whether the layer\n",
      " |          should use a bias vector.\n",
      " |      kernel_initializer: Initializer for the `kernel` weights matrix,\n",
      " |          used for the linear transformation of the inputs. Default:\n",
      " |          `\"glorot_uniform\"`.\n",
      " |      recurrent_initializer: Initializer for the `recurrent_kernel`\n",
      " |          weights matrix, used for the linear transformation of the recurrent\n",
      " |          state. Default: `\"orthogonal\"`.\n",
      " |      bias_initializer: Initializer for the bias vector. Default: `\"zeros\"`.\n",
      " |      unit_forget_bias: Boolean (default `True`). If `True`,\n",
      " |          add 1 to the bias of the forget gate at initialization.\n",
      " |          Setting it to `True` will also force `bias_initializer=\"zeros\"`.\n",
      " |          This is recommended in [Jozefowicz et al.](\n",
      " |          https://github.com/mlresearch/v37/blob/gh-pages/jozefowicz15.pdf)\n",
      " |      kernel_regularizer: Regularizer function applied to the `kernel` weights\n",
      " |          matrix. Default: `None`.\n",
      " |      recurrent_regularizer: Regularizer function applied to the\n",
      " |          `recurrent_kernel` weights matrix. Default: `None`.\n",
      " |      bias_regularizer: Regularizer function applied to the bias vector.\n",
      " |          Default: `None`.\n",
      " |      activity_regularizer: Regularizer function applied to the output of the\n",
      " |          layer (its \"activation\"). Default: `None`.\n",
      " |      kernel_constraint: Constraint function applied to the `kernel` weights\n",
      " |          matrix. Default: `None`.\n",
      " |      recurrent_constraint: Constraint function applied to the\n",
      " |          `recurrent_kernel` weights matrix. Default: `None`.\n",
      " |      bias_constraint: Constraint function applied to the bias vector.\n",
      " |          Default: `None`.\n",
      " |      dropout: Float between 0 and 1. Fraction of the units to drop for the\n",
      " |          linear transformation of the inputs. Default: 0.\n",
      " |      recurrent_dropout: Float between 0 and 1. Fraction of the units to drop\n",
      " |          for the linear transformation of the recurrent state. Default: 0.\n",
      " |      seed: Random seed for dropout.\n",
      " |      return_sequences: Boolean. Whether to return the last output\n",
      " |          in the output sequence, or the full sequence. Default: `False`.\n",
      " |      return_state: Boolean. Whether to return the last state in addition\n",
      " |          to the output. Default: `False`.\n",
      " |      go_backwards: Boolean (default: `False`).\n",
      " |          If `True`, process the input sequence backwards and return the\n",
      " |          reversed sequence.\n",
      " |      stateful: Boolean (default: `False`). If `True`, the last state\n",
      " |          for each sample at index i in a batch will be used as initial\n",
      " |          state for the sample of index i in the following batch.\n",
      " |      unroll: Boolean (default False).\n",
      " |          If `True`, the network will be unrolled,\n",
      " |          else a symbolic loop will be used.\n",
      " |          Unrolling can speed-up a RNN,\n",
      " |          although it tends to be more memory-intensive.\n",
      " |          Unrolling is only suitable for short sequences.\n",
      " |      use_cudnn: Whether to use a cuDNN-backed implementation. `\"auto\"` will\n",
      " |          attempt to use cuDNN when feasible, and will fallback to the\n",
      " |          default implementation if not.\n",
      " |  \n",
      " |  Call arguments:\n",
      " |      inputs: A 3D tensor, with shape `(batch, timesteps, feature)`.\n",
      " |      mask: Binary tensor of shape `(samples, timesteps)` indicating whether\n",
      " |          a given timestep should be masked  (optional).\n",
      " |          An individual `True` entry indicates that the corresponding timestep\n",
      " |          should be utilized, while a `False` entry indicates that the\n",
      " |          corresponding timestep should be ignored. Defaults to `None`.\n",
      " |      training: Python boolean indicating whether the layer should behave in\n",
      " |          training mode or in inference mode. This argument is passed to the\n",
      " |          cell when calling it. This is only relevant if `dropout` or\n",
      " |          `recurrent_dropout` is used  (optional). Defaults to `None`.\n",
      " |      initial_state: List of initial state tensors to be passed to the first\n",
      " |          call of the cell (optional, `None` causes creation\n",
      " |          of zero-filled initial state tensors). Defaults to `None`.\n",
      " |  \n",
      " |  Method resolution order:\n",
      " |      LSTM\n",
      " |      keras.src.layers.rnn.rnn.RNN\n",
      " |      keras.src.layers.layer.Layer\n",
      " |      keras.src.backend.tensorflow.layer.TFLayer\n",
      " |      keras.src.backend.tensorflow.trackable.KerasAutoTrackable\n",
      " |      tensorflow.python.trackable.autotrackable.AutoTrackable\n",
      " |      tensorflow.python.trackable.base.Trackable\n",
      " |      keras.src.ops.operation.Operation\n",
      " |      keras.src.saving.keras_saveable.KerasSaveable\n",
      " |      builtins.object\n",
      " |  \n",
      " |  Methods defined here:\n",
      " |  \n",
      " |  __init__(self, units, activation='tanh', recurrent_activation='sigmoid', use_bias=True, kernel_initializer='glorot_uniform', recurrent_initializer='orthogonal', bias_initializer='zeros', unit_forget_bias=True, kernel_regularizer=None, recurrent_regularizer=None, bias_regularizer=None, activity_regularizer=None, kernel_constraint=None, recurrent_constraint=None, bias_constraint=None, dropout=0.0, recurrent_dropout=0.0, seed=None, return_sequences=False, return_state=False, go_backwards=False, stateful=False, unroll=False, use_cudnn='auto', **kwargs)\n",
      " |      Initialize self.  See help(type(self)) for accurate signature.\n",
      " |  \n",
      " |  call(self, sequences, initial_state=None, mask=None, training=False)\n",
      " |  \n",
      " |  get_config(self)\n",
      " |      Returns the config of the object.\n",
      " |      \n",
      " |      An object config is a Python dictionary (serializable)\n",
      " |      containing the information needed to re-instantiate it.\n",
      " |  \n",
      " |  inner_loop(self, sequences, initial_state, mask, training=False)\n",
      " |  \n",
      " |  ----------------------------------------------------------------------\n",
      " |  Class methods defined here:\n",
      " |  \n",
      " |  from_config(config)\n",
      " |      Creates an operation from its config.\n",
      " |      \n",
      " |      This method is the reverse of `get_config`, capable of instantiating the\n",
      " |      same operation from the config dictionary.\n",
      " |      \n",
      " |      Note: If you override this method, you might receive a serialized dtype\n",
      " |      config, which is a `dict`. You can deserialize it as follows:\n",
      " |      \n",
      " |      ```python\n",
      " |      if \"dtype\" in config and isinstance(config[\"dtype\"], dict):\n",
      " |          policy = dtype_policies.deserialize(config[\"dtype\"])\n",
      " |      ```\n",
      " |      \n",
      " |      Args:\n",
      " |          config: A Python dictionary, typically the output of `get_config`.\n",
      " |      \n",
      " |      Returns:\n",
      " |          An operation instance.\n",
      " |  \n",
      " |  ----------------------------------------------------------------------\n",
      " |  Readonly properties defined here:\n",
      " |  \n",
      " |  activation\n",
      " |  \n",
      " |  bias_constraint\n",
      " |  \n",
      " |  bias_initializer\n",
      " |  \n",
      " |  bias_regularizer\n",
      " |  \n",
      " |  dropout\n",
      " |  \n",
      " |  kernel_constraint\n",
      " |  \n",
      " |  kernel_initializer\n",
      " |  \n",
      " |  kernel_regularizer\n",
      " |  \n",
      " |  recurrent_activation\n",
      " |  \n",
      " |  recurrent_constraint\n",
      " |  \n",
      " |  recurrent_dropout\n",
      " |  \n",
      " |  recurrent_initializer\n",
      " |  \n",
      " |  recurrent_regularizer\n",
      " |  \n",
      " |  unit_forget_bias\n",
      " |  \n",
      " |  units\n",
      " |  \n",
      " |  use_bias\n",
      " |  \n",
      " |  ----------------------------------------------------------------------\n",
      " |  Data and other attributes defined here:\n",
      " |  \n",
      " |  __annotations__ = {}\n",
      " |  \n",
      " |  ----------------------------------------------------------------------\n",
      " |  Methods inherited from keras.src.layers.rnn.rnn.RNN:\n",
      " |  \n",
      " |  build(self, sequences_shape, initial_state_shape=None)\n",
      " |  \n",
      " |  compute_mask(self, _, mask)\n",
      " |  \n",
      " |  compute_output_shape(self, sequences_shape, initial_state_shape=None)\n",
      " |  \n",
      " |  get_initial_state(self, batch_size)\n",
      " |  \n",
      " |  reset_state(self)\n",
      " |  \n",
      " |  reset_states(self)\n",
      " |  \n",
      " |  ----------------------------------------------------------------------\n",
      " |  Methods inherited from keras.src.layers.layer.Layer:\n",
      " |  \n",
      " |  __call__(self, *args, **kwargs)\n",
      " |      Call self as a function.\n",
      " |  \n",
      " |  __delattr__(self, name)\n",
      " |      Implement delattr(self, name).\n",
      " |  \n",
      " |  __repr__(self)\n",
      " |      Return repr(self).\n",
      " |  \n",
      " |  __setattr__(self, name, value)\n",
      " |      Support self.foo = trackable syntax.\n",
      " |  \n",
      " |  __str__(self)\n",
      " |      Return str(self).\n",
      " |  \n",
      " |  add_loss(self, loss)\n",
      " |      Can be called inside of the `call()` method to add a scalar loss.\n",
      " |      \n",
      " |      Example:\n",
      " |      \n",
      " |      ```python\n",
      " |      class MyLayer(Layer):\n",
      " |          ...\n",
      " |          def call(self, x):\n",
      " |              self.add_loss(ops.sum(x))\n",
      " |              return x\n",
      " |      ```\n",
      " |  \n",
      " |  add_metric(self, *args, **kwargs)\n",
      " |  \n",
      " |  add_variable(self, shape, initializer, dtype=None, trainable=True, autocast=True, regularizer=None, constraint=None, name=None)\n",
      " |      Add a weight variable to the layer.\n",
      " |      \n",
      " |      Alias of `add_weight()`.\n",
      " |  \n",
      " |  add_weight(self, shape=None, initializer=None, dtype=None, trainable=True, autocast=True, regularizer=None, constraint=None, aggregation='none', name=None)\n",
      " |      Add a weight variable to the layer.\n",
      " |      \n",
      " |      Args:\n",
      " |          shape: Shape tuple for the variable. Must be fully-defined\n",
      " |              (no `None` entries). Defaults to `()` (scalar) if unspecified.\n",
      " |          initializer: Initializer object to use to populate the initial\n",
      " |              variable value, or string name of a built-in initializer\n",
      " |              (e.g. `\"random_normal\"`). If unspecified, defaults to\n",
      " |              `\"glorot_uniform\"` for floating-point variables and to `\"zeros\"`\n",
      " |              for all other types (e.g. int, bool).\n",
      " |          dtype: Dtype of the variable to create, e.g. `\"float32\"`. If\n",
      " |              unspecified, defaults to the layer's variable dtype\n",
      " |              (which itself defaults to `\"float32\"` if unspecified).\n",
      " |          trainable: Boolean, whether the variable should be trainable via\n",
      " |              backprop or whether its updates are managed manually. Defaults\n",
      " |              to `True`.\n",
      " |          autocast: Boolean, whether to autocast layers variables when\n",
      " |              accessing them. Defaults to `True`.\n",
      " |          regularizer: Regularizer object to call to apply penalty on the\n",
      " |              weight. These penalties are summed into the loss function\n",
      " |              during optimization. Defaults to `None`.\n",
      " |          constraint: Contrainst object to call on the variable after any\n",
      " |              optimizer update, or string name of a built-in constraint.\n",
      " |              Defaults to `None`.\n",
      " |          aggregation: Optional string, one of `None`, `\"none\"`, `\"mean\"`,\n",
      " |              `\"sum\"` or `\"only_first_replica\"`. Annotates the variable with\n",
      " |              the type of multi-replica aggregation to be used for this\n",
      " |              variable when writing custom data parallel training loops.\n",
      " |              Defaults to `\"none\"`.\n",
      " |          name: String name of the variable. Useful for debugging purposes.\n",
      " |  \n",
      " |  build_from_config(self, config)\n",
      " |      Builds the layer's states with the supplied config dict.\n",
      " |      \n",
      " |      By default, this method calls the `build(config[\"input_shape\"])` method,\n",
      " |      which creates weights based on the layer's input shape in the supplied\n",
      " |      config. If your config contains other information needed to load the\n",
      " |      layer's state, you should override this method.\n",
      " |      \n",
      " |      Args:\n",
      " |          config: Dict containing the input shape associated with this layer.\n",
      " |  \n",
      " |  compute_output_spec(self, *args, **kwargs)\n",
      " |  \n",
      " |  count_params(self)\n",
      " |      Count the total number of scalars composing the weights.\n",
      " |      \n",
      " |      Returns:\n",
      " |          An integer count.\n",
      " |  \n",
      " |  get_build_config(self)\n",
      " |      Returns a dictionary with the layer's input shape.\n",
      " |      \n",
      " |      This method returns a config dict that can be used by\n",
      " |      `build_from_config(config)` to create all states (e.g. Variables and\n",
      " |      Lookup tables) needed by the layer.\n",
      " |      \n",
      " |      By default, the config only contains the input shape that the layer\n",
      " |      was built with. If you're writing a custom layer that creates state in\n",
      " |      an unusual way, you should override this method to make sure this state\n",
      " |      is already created when Keras attempts to load its value upon model\n",
      " |      loading.\n",
      " |      \n",
      " |      Returns:\n",
      " |          A dict containing the input shape associated with the layer.\n",
      " |  \n",
      " |  get_weights(self)\n",
      " |      Return the values of `layer.weights` as a list of NumPy arrays.\n",
      " |  \n",
      " |  load_own_variables(self, store)\n",
      " |      Loads the state of the layer.\n",
      " |      \n",
      " |      You can override this method to take full control of how the state of\n",
      " |      the layer is loaded upon calling `keras.models.load_model()`.\n",
      " |      \n",
      " |      Args:\n",
      " |          store: Dict from which the state of the model will be loaded.\n",
      " |  \n",
      " |  quantize(self, mode, type_check=True)\n",
      " |  \n",
      " |  quantized_build(self, input_shape, mode)\n",
      " |  \n",
      " |  quantized_call(self, *args, **kwargs)\n",
      " |  \n",
      " |  rematerialized_call(self, layer_call, *args, **kwargs)\n",
      " |      Enable rematerialization dynamically for layer's call method.\n",
      " |      \n",
      " |      Args:\n",
      " |          layer_call: The original `call` method of a layer.\n",
      " |      \n",
      " |      Returns:\n",
      " |          Rematerialized layer's `call` method.\n",
      " |  \n",
      " |  save_own_variables(self, store)\n",
      " |      Saves the state of the layer.\n",
      " |      \n",
      " |      You can override this method to take full control of how the state of\n",
      " |      the layer is saved upon calling `model.save()`.\n",
      " |      \n",
      " |      Args:\n",
      " |          store: Dict where the state of the model will be saved.\n",
      " |  \n",
      " |  set_weights(self, weights)\n",
      " |      Sets the values of `layer.weights` from a list of NumPy arrays.\n",
      " |  \n",
      " |  stateless_call(self, trainable_variables, non_trainable_variables, *args, return_losses=False, **kwargs)\n",
      " |      Call the layer without any side effects.\n",
      " |      \n",
      " |      Args:\n",
      " |          trainable_variables: List of trainable variables of the model.\n",
      " |          non_trainable_variables: List of non-trainable variables of the\n",
      " |              model.\n",
      " |          *args: Positional arguments to be passed to `call()`.\n",
      " |          return_losses: If `True`, `stateless_call()` will return the list of\n",
      " |              losses created during `call()` as part of its return values.\n",
      " |          **kwargs: Keyword arguments to be passed to `call()`.\n",
      " |      \n",
      " |      Returns:\n",
      " |          A tuple. By default, returns `(outputs, non_trainable_variables)`.\n",
      " |              If `return_losses = True`, then returns\n",
      " |              `(outputs, non_trainable_variables, losses)`.\n",
      " |      \n",
      " |      Note: `non_trainable_variables` include not only non-trainable weights\n",
      " |      such as `BatchNormalization` statistics, but also RNG seed state\n",
      " |      (if there are any random operations part of the layer, such as dropout),\n",
      " |      and `Metric` state (if there are any metrics attached to the layer).\n",
      " |      These are all elements of state of the layer.\n",
      " |      \n",
      " |      Example:\n",
      " |      \n",
      " |      ```python\n",
      " |      model = ...\n",
      " |      data = ...\n",
      " |      trainable_variables = model.trainable_variables\n",
      " |      non_trainable_variables = model.non_trainable_variables\n",
      " |      # Call the model with zero side effects\n",
      " |      outputs, non_trainable_variables = model.stateless_call(\n",
      " |          trainable_variables,\n",
      " |          non_trainable_variables,\n",
      " |          data,\n",
      " |      )\n",
      " |      # Attach the updated state to the model\n",
      " |      # (until you do this, the model is still in its pre-call state).\n",
      " |      for ref_var, value in zip(\n",
      " |          model.non_trainable_variables, non_trainable_variables\n",
      " |      ):\n",
      " |          ref_var.assign(value)\n",
      " |      ```\n",
      " |  \n",
      " |  ----------------------------------------------------------------------\n",
      " |  Static methods inherited from keras.src.layers.layer.Layer:\n",
      " |  \n",
      " |  __new__(cls, *args, **kwargs)\n",
      " |      Create and return a new object.  See help(type) for accurate signature.\n",
      " |  \n",
      " |  ----------------------------------------------------------------------\n",
      " |  Readonly properties inherited from keras.src.layers.layer.Layer:\n",
      " |  \n",
      " |  compute_dtype\n",
      " |      The dtype of the computations performed by the layer.\n",
      " |  \n",
      " |  dtype\n",
      " |      Alias of `layer.variable_dtype`.\n",
      " |  \n",
      " |  input_dtype\n",
      " |      The dtype layer inputs should be converted to.\n",
      " |  \n",
      " |  losses\n",
      " |      List of scalar losses from `add_loss`, regularizers and sublayers.\n",
      " |  \n",
      " |  metrics\n",
      " |      List of all metrics.\n",
      " |  \n",
      " |  metrics_variables\n",
      " |      List of all metric variables.\n",
      " |  \n",
      " |  non_trainable_variables\n",
      " |      List of all non-trainable layer state.\n",
      " |      \n",
      " |      This extends `layer.non_trainable_weights` to include all state used by\n",
      " |      the layer including state for metrics and `SeedGenerator`s.\n",
      " |  \n",
      " |  non_trainable_weights\n",
      " |      List of all non-trainable weight variables of the layer.\n",
      " |      \n",
      " |      These are the weights that should not be updated by the optimizer during\n",
      " |      training. Unlike, `layer.non_trainable_variables` this excludes metric\n",
      " |      state and random seeds.\n",
      " |  \n",
      " |  path\n",
      " |      The path of the layer.\n",
      " |      \n",
      " |      If the layer has not been built yet, it will be `None`.\n",
      " |  \n",
      " |  quantization_mode\n",
      " |      The quantization mode of this layer, `None` if not quantized.\n",
      " |  \n",
      " |  trainable_variables\n",
      " |      List of all trainable layer state.\n",
      " |      \n",
      " |      This is equivalent to `layer.trainable_weights`.\n",
      " |  \n",
      " |  trainable_weights\n",
      " |      List of all trainable weight variables of the layer.\n",
      " |      \n",
      " |      These are the weights that get updated by the optimizer during training.\n",
      " |  \n",
      " |  variable_dtype\n",
      " |      The dtype of the state (weights) of the layer.\n",
      " |  \n",
      " |  variables\n",
      " |      List of all layer state, including random seeds.\n",
      " |      \n",
      " |      This extends `layer.weights` to include all state used by the layer\n",
      " |      including `SeedGenerator`s.\n",
      " |      \n",
      " |      Note that metrics variables are not included here, use\n",
      " |      `metrics_variables` to visit all the metric variables.\n",
      " |  \n",
      " |  weights\n",
      " |      List of all weight variables of the layer.\n",
      " |      \n",
      " |      Unlike, `layer.variables` this excludes metric state and random seeds.\n",
      " |  \n",
      " |  ----------------------------------------------------------------------\n",
      " |  Data descriptors inherited from keras.src.layers.layer.Layer:\n",
      " |  \n",
      " |  dtype_policy\n",
      " |  \n",
      " |  input_spec\n",
      " |  \n",
      " |  supports_masking\n",
      " |      Whether this layer supports computing a mask using `compute_mask`.\n",
      " |  \n",
      " |  trainable\n",
      " |      Settable boolean, whether this layer should be trainable or not.\n",
      " |  \n",
      " |  ----------------------------------------------------------------------\n",
      " |  Data descriptors inherited from tensorflow.python.trackable.base.Trackable:\n",
      " |  \n",
      " |  __dict__\n",
      " |      dictionary for instance variables\n",
      " |  \n",
      " |  __weakref__\n",
      " |      list of weak references to the object\n",
      " |  \n",
      " |  ----------------------------------------------------------------------\n",
      " |  Methods inherited from keras.src.ops.operation.Operation:\n",
      " |  \n",
      " |  symbolic_call(self, *args, **kwargs)\n",
      " |  \n",
      " |  ----------------------------------------------------------------------\n",
      " |  Readonly properties inherited from keras.src.ops.operation.Operation:\n",
      " |  \n",
      " |  input\n",
      " |      Retrieves the input tensor(s) of a symbolic operation.\n",
      " |      \n",
      " |      Only returns the tensor(s) corresponding to the *first time*\n",
      " |      the operation was called.\n",
      " |      \n",
      " |      Returns:\n",
      " |          Input tensor or list of input tensors.\n",
      " |  \n",
      " |  output\n",
      " |      Retrieves the output tensor(s) of a layer.\n",
      " |      \n",
      " |      Only returns the tensor(s) corresponding to the *first time*\n",
      " |      the operation was called.\n",
      " |      \n",
      " |      Returns:\n",
      " |          Output tensor or list of output tensors.\n",
      " |  \n",
      " |  ----------------------------------------------------------------------\n",
      " |  Methods inherited from keras.src.saving.keras_saveable.KerasSaveable:\n",
      " |  \n",
      " |  __reduce__(self)\n",
      " |      __reduce__ is used to customize the behavior of `pickle.pickle()`.\n",
      " |      \n",
      " |      The method returns a tuple of two elements: a function, and a list of\n",
      " |      arguments to pass to that function.  In this case we just leverage the\n",
      " |      keras saving library.\n",
      "\n"
     ]
    }
   ],
   "source": [
    "help(LSTM)"
   ]
  },
  {
   "cell_type": "code",
   "execution_count": 185,
   "metadata": {},
   "outputs": [],
   "source": [
    "Lstm = Sequential()\n",
    "Lstm.add(LSTM(units=64, activation='tanh', return_sequences=True,input_shape=(X_train.shape[1],X_train.shape[2])))\n",
    "\n",
    "Lstm.add(LSTM(units=32,activation='tanh',return_sequences=True))\n",
    "\n",
    "Lstm.add(LSTM(units=16))\n",
    "\n",
    "#출력층\n",
    "Lstm.add(Dense(9, activation='softmax'))"
   ]
  },
  {
   "cell_type": "code",
   "execution_count": null,
   "id": "ffab8133",
   "metadata": {},
   "outputs": [
    {
     "name": "stdout",
     "output_type": "stream",
     "text": [
      "(578, 4, 47)\n"
     ]
    }
   ],
   "source": [
    "#print(X_train.shape)"
   ]
  },
  {
   "cell_type": "code",
   "execution_count": 186,
   "metadata": {},
   "outputs": [
    {
     "data": {
      "text/html": [
       "<pre style=\"white-space:pre;overflow-x:auto;line-height:normal;font-family:Menlo,'DejaVu Sans Mono',consolas,'Courier New',monospace\"><span style=\"font-weight: bold\">Model: \"sequential_20\"</span>\n",
       "</pre>\n"
      ],
      "text/plain": [
       "\u001b[1mModel: \"sequential_20\"\u001b[0m\n"
      ]
     },
     "metadata": {},
     "output_type": "display_data"
    },
    {
     "data": {
      "text/html": [
       "<pre style=\"white-space:pre;overflow-x:auto;line-height:normal;font-family:Menlo,'DejaVu Sans Mono',consolas,'Courier New',monospace\">┏━━━━━━━━━━━━━━━━━━━━━━━━━━━━━━━━━┳━━━━━━━━━━━━━━━━━━━━━━━━┳━━━━━━━━━━━━━━━┓\n",
       "┃<span style=\"font-weight: bold\"> Layer (type)                    </span>┃<span style=\"font-weight: bold\"> Output Shape           </span>┃<span style=\"font-weight: bold\">       Param # </span>┃\n",
       "┡━━━━━━━━━━━━━━━━━━━━━━━━━━━━━━━━━╇━━━━━━━━━━━━━━━━━━━━━━━━╇━━━━━━━━━━━━━━━┩\n",
       "│ lstm_1 (<span style=\"color: #0087ff; text-decoration-color: #0087ff\">LSTM</span>)                   │ (<span style=\"color: #00d7ff; text-decoration-color: #00d7ff\">None</span>, <span style=\"color: #00af00; text-decoration-color: #00af00\">4</span>, <span style=\"color: #00af00; text-decoration-color: #00af00\">64</span>)          │        <span style=\"color: #00af00; text-decoration-color: #00af00\">28,672</span> │\n",
       "├─────────────────────────────────┼────────────────────────┼───────────────┤\n",
       "│ lstm_2 (<span style=\"color: #0087ff; text-decoration-color: #0087ff\">LSTM</span>)                   │ (<span style=\"color: #00d7ff; text-decoration-color: #00d7ff\">None</span>, <span style=\"color: #00af00; text-decoration-color: #00af00\">4</span>, <span style=\"color: #00af00; text-decoration-color: #00af00\">32</span>)          │        <span style=\"color: #00af00; text-decoration-color: #00af00\">12,416</span> │\n",
       "├─────────────────────────────────┼────────────────────────┼───────────────┤\n",
       "│ lstm_3 (<span style=\"color: #0087ff; text-decoration-color: #0087ff\">LSTM</span>)                   │ (<span style=\"color: #00d7ff; text-decoration-color: #00d7ff\">None</span>, <span style=\"color: #00af00; text-decoration-color: #00af00\">16</span>)             │         <span style=\"color: #00af00; text-decoration-color: #00af00\">3,136</span> │\n",
       "├─────────────────────────────────┼────────────────────────┼───────────────┤\n",
       "│ dense_29 (<span style=\"color: #0087ff; text-decoration-color: #0087ff\">Dense</span>)                │ (<span style=\"color: #00d7ff; text-decoration-color: #00d7ff\">None</span>, <span style=\"color: #00af00; text-decoration-color: #00af00\">9</span>)              │           <span style=\"color: #00af00; text-decoration-color: #00af00\">153</span> │\n",
       "└─────────────────────────────────┴────────────────────────┴───────────────┘\n",
       "</pre>\n"
      ],
      "text/plain": [
       "┏━━━━━━━━━━━━━━━━━━━━━━━━━━━━━━━━━┳━━━━━━━━━━━━━━━━━━━━━━━━┳━━━━━━━━━━━━━━━┓\n",
       "┃\u001b[1m \u001b[0m\u001b[1mLayer (type)                   \u001b[0m\u001b[1m \u001b[0m┃\u001b[1m \u001b[0m\u001b[1mOutput Shape          \u001b[0m\u001b[1m \u001b[0m┃\u001b[1m \u001b[0m\u001b[1m      Param #\u001b[0m\u001b[1m \u001b[0m┃\n",
       "┡━━━━━━━━━━━━━━━━━━━━━━━━━━━━━━━━━╇━━━━━━━━━━━━━━━━━━━━━━━━╇━━━━━━━━━━━━━━━┩\n",
       "│ lstm_1 (\u001b[38;5;33mLSTM\u001b[0m)                   │ (\u001b[38;5;45mNone\u001b[0m, \u001b[38;5;34m4\u001b[0m, \u001b[38;5;34m64\u001b[0m)          │        \u001b[38;5;34m28,672\u001b[0m │\n",
       "├─────────────────────────────────┼────────────────────────┼───────────────┤\n",
       "│ lstm_2 (\u001b[38;5;33mLSTM\u001b[0m)                   │ (\u001b[38;5;45mNone\u001b[0m, \u001b[38;5;34m4\u001b[0m, \u001b[38;5;34m32\u001b[0m)          │        \u001b[38;5;34m12,416\u001b[0m │\n",
       "├─────────────────────────────────┼────────────────────────┼───────────────┤\n",
       "│ lstm_3 (\u001b[38;5;33mLSTM\u001b[0m)                   │ (\u001b[38;5;45mNone\u001b[0m, \u001b[38;5;34m16\u001b[0m)             │         \u001b[38;5;34m3,136\u001b[0m │\n",
       "├─────────────────────────────────┼────────────────────────┼───────────────┤\n",
       "│ dense_29 (\u001b[38;5;33mDense\u001b[0m)                │ (\u001b[38;5;45mNone\u001b[0m, \u001b[38;5;34m9\u001b[0m)              │           \u001b[38;5;34m153\u001b[0m │\n",
       "└─────────────────────────────────┴────────────────────────┴───────────────┘\n"
      ]
     },
     "metadata": {},
     "output_type": "display_data"
    },
    {
     "data": {
      "text/html": [
       "<pre style=\"white-space:pre;overflow-x:auto;line-height:normal;font-family:Menlo,'DejaVu Sans Mono',consolas,'Courier New',monospace\"><span style=\"font-weight: bold\"> Total params: </span><span style=\"color: #00af00; text-decoration-color: #00af00\">44,377</span> (173.35 KB)\n",
       "</pre>\n"
      ],
      "text/plain": [
       "\u001b[1m Total params: \u001b[0m\u001b[38;5;34m44,377\u001b[0m (173.35 KB)\n"
      ]
     },
     "metadata": {},
     "output_type": "display_data"
    },
    {
     "data": {
      "text/html": [
       "<pre style=\"white-space:pre;overflow-x:auto;line-height:normal;font-family:Menlo,'DejaVu Sans Mono',consolas,'Courier New',monospace\"><span style=\"font-weight: bold\"> Trainable params: </span><span style=\"color: #00af00; text-decoration-color: #00af00\">44,377</span> (173.35 KB)\n",
       "</pre>\n"
      ],
      "text/plain": [
       "\u001b[1m Trainable params: \u001b[0m\u001b[38;5;34m44,377\u001b[0m (173.35 KB)\n"
      ]
     },
     "metadata": {},
     "output_type": "display_data"
    },
    {
     "data": {
      "text/html": [
       "<pre style=\"white-space:pre;overflow-x:auto;line-height:normal;font-family:Menlo,'DejaVu Sans Mono',consolas,'Courier New',monospace\"><span style=\"font-weight: bold\"> Non-trainable params: </span><span style=\"color: #00af00; text-decoration-color: #00af00\">0</span> (0.00 B)\n",
       "</pre>\n"
      ],
      "text/plain": [
       "\u001b[1m Non-trainable params: \u001b[0m\u001b[38;5;34m0\u001b[0m (0.00 B)\n"
      ]
     },
     "metadata": {},
     "output_type": "display_data"
    },
    {
     "name": "stdout",
     "output_type": "stream",
     "text": [
      "Epoch 1/100\n",
      "\u001b[1m17/17\u001b[0m \u001b[32m━━━━━━━━━━━━━━━━━━━━\u001b[0m\u001b[37m\u001b[0m \u001b[1m7s\u001b[0m 46ms/step - accuracy: 0.1632 - loss: 2.1549 - val_accuracy: 0.1379 - val_loss: 1.9893\n",
      "Epoch 2/100\n",
      "\u001b[1m17/17\u001b[0m \u001b[32m━━━━━━━━━━━━━━━━━━━━\u001b[0m\u001b[37m\u001b[0m \u001b[1m0s\u001b[0m 9ms/step - accuracy: 0.2717 - loss: 1.9283 - val_accuracy: 0.3276 - val_loss: 1.7888\n",
      "Epoch 3/100\n",
      "\u001b[1m17/17\u001b[0m \u001b[32m━━━━━━━━━━━━━━━━━━━━\u001b[0m\u001b[37m\u001b[0m \u001b[1m0s\u001b[0m 9ms/step - accuracy: 0.4882 - loss: 1.6452 - val_accuracy: 0.3276 - val_loss: 1.5767\n",
      "Epoch 4/100\n",
      "\u001b[1m17/17\u001b[0m \u001b[32m━━━━━━━━━━━━━━━━━━━━\u001b[0m\u001b[37m\u001b[0m \u001b[1m0s\u001b[0m 8ms/step - accuracy: 0.5345 - loss: 1.3317 - val_accuracy: 0.5172 - val_loss: 1.3181\n",
      "Epoch 5/100\n",
      "\u001b[1m17/17\u001b[0m \u001b[32m━━━━━━━━━━━━━━━━━━━━\u001b[0m\u001b[37m\u001b[0m \u001b[1m0s\u001b[0m 9ms/step - accuracy: 0.6543 - loss: 1.0858 - val_accuracy: 0.6379 - val_loss: 1.0715\n",
      "Epoch 6/100\n",
      "\u001b[1m17/17\u001b[0m \u001b[32m━━━━━━━━━━━━━━━━━━━━\u001b[0m\u001b[37m\u001b[0m \u001b[1m0s\u001b[0m 9ms/step - accuracy: 0.7553 - loss: 0.8681 - val_accuracy: 0.7414 - val_loss: 0.8615\n",
      "Epoch 7/100\n",
      "\u001b[1m17/17\u001b[0m \u001b[32m━━━━━━━━━━━━━━━━━━━━\u001b[0m\u001b[37m\u001b[0m \u001b[1m0s\u001b[0m 8ms/step - accuracy: 0.8152 - loss: 0.6991 - val_accuracy: 0.7069 - val_loss: 0.8705\n",
      "Epoch 8/100\n",
      "\u001b[1m17/17\u001b[0m \u001b[32m━━━━━━━━━━━━━━━━━━━━\u001b[0m\u001b[37m\u001b[0m \u001b[1m0s\u001b[0m 9ms/step - accuracy: 0.8594 - loss: 0.5680 - val_accuracy: 0.7069 - val_loss: 0.8036\n",
      "Epoch 9/100\n",
      "\u001b[1m17/17\u001b[0m \u001b[32m━━━━━━━━━━━━━━━━━━━━\u001b[0m\u001b[37m\u001b[0m \u001b[1m0s\u001b[0m 16ms/step - accuracy: 0.8337 - loss: 0.5262 - val_accuracy: 0.6724 - val_loss: 0.9332\n",
      "Epoch 10/100\n",
      "\u001b[1m17/17\u001b[0m \u001b[32m━━━━━━━━━━━━━━━━━━━━\u001b[0m\u001b[37m\u001b[0m \u001b[1m0s\u001b[0m 9ms/step - accuracy: 0.8455 - loss: 0.5032 - val_accuracy: 0.7069 - val_loss: 0.8078\n",
      "Epoch 11/100\n",
      "\u001b[1m17/17\u001b[0m \u001b[32m━━━━━━━━━━━━━━━━━━━━\u001b[0m\u001b[37m\u001b[0m \u001b[1m0s\u001b[0m 9ms/step - accuracy: 0.8521 - loss: 0.4546 - val_accuracy: 0.7241 - val_loss: 0.7549\n",
      "Epoch 12/100\n",
      "\u001b[1m17/17\u001b[0m \u001b[32m━━━━━━━━━━━━━━━━━━━━\u001b[0m\u001b[37m\u001b[0m \u001b[1m0s\u001b[0m 9ms/step - accuracy: 0.8384 - loss: 0.4790 - val_accuracy: 0.7241 - val_loss: 0.8091\n",
      "Epoch 13/100\n",
      "\u001b[1m17/17\u001b[0m \u001b[32m━━━━━━━━━━━━━━━━━━━━\u001b[0m\u001b[37m\u001b[0m \u001b[1m0s\u001b[0m 9ms/step - accuracy: 0.8568 - loss: 0.4306 - val_accuracy: 0.6897 - val_loss: 0.9559\n",
      "Epoch 14/100\n",
      "\u001b[1m17/17\u001b[0m \u001b[32m━━━━━━━━━━━━━━━━━━━━\u001b[0m\u001b[37m\u001b[0m \u001b[1m0s\u001b[0m 8ms/step - accuracy: 0.8531 - loss: 0.4193 - val_accuracy: 0.7069 - val_loss: 0.8573\n",
      "Epoch 15/100\n",
      "\u001b[1m17/17\u001b[0m \u001b[32m━━━━━━━━━━━━━━━━━━━━\u001b[0m\u001b[37m\u001b[0m \u001b[1m0s\u001b[0m 9ms/step - accuracy: 0.8311 - loss: 0.4509 - val_accuracy: 0.7069 - val_loss: 0.8126\n",
      "Epoch 16/100\n",
      "\u001b[1m17/17\u001b[0m \u001b[32m━━━━━━━━━━━━━━━━━━━━\u001b[0m\u001b[37m\u001b[0m \u001b[1m0s\u001b[0m 9ms/step - accuracy: 0.8726 - loss: 0.3686 - val_accuracy: 0.6897 - val_loss: 0.9004\n",
      "Epoch 16: early stopping\n"
     ]
    }
   ],
   "source": [
    "Lstm.compile(optimizer='adam',\n",
    "            loss='categorical_crossentropy',\n",
    "            metrics=['accuracy'])\n",
    "Lstm.summary()\n",
    "Lstm_history = Lstm.fit(X_train,y_train,epochs=100,validation_split=0.1,callbacks=[early_stopping])"
   ]
  },
  {
   "cell_type": "code",
   "execution_count": 188,
   "metadata": {},
   "outputs": [
    {
     "name": "stdout",
     "output_type": "stream",
     "text": [
      "\u001b[1m5/5\u001b[0m \u001b[32m━━━━━━━━━━━━━━━━━━━━\u001b[0m\u001b[37m\u001b[0m \u001b[1m1s\u001b[0m 123ms/step\n",
      "-----------LSTM-----------\n",
      "정확도: 0.2689655172413793\n",
      "혼동행렬:\n",
      " [[ 2  1  0  0  0  0  0  8]\n",
      " [ 0  8  0  0  0  0  0  0]\n",
      " [ 0  0  0  0 27  0  0  0]\n",
      " [ 0 24  0  0  0  0 33  0]\n",
      " [ 0  0  0  0  5  0  0  0]\n",
      " [ 0  0  0  0  4 13  5  0]\n",
      " [ 0  0  0  0  0  0  0  0]\n",
      " [ 0  0  0  0  4  0  0 11]]\n",
      "분류보고서\n",
      "               precision    recall  f1-score   support\n",
      "\n",
      "           0       1.00      0.18      0.31        11\n",
      "           1       0.24      1.00      0.39         8\n",
      "           2       0.00      0.00      0.00        27\n",
      "           3       0.00      0.00      0.00        57\n",
      "           4       0.12      1.00      0.22         5\n",
      "           5       1.00      0.59      0.74        22\n",
      "           6       0.00      0.00      0.00         0\n",
      "           7       0.58      0.73      0.65        15\n",
      "\n",
      "    accuracy                           0.27       145\n",
      "   macro avg       0.37      0.44      0.29       145\n",
      "weighted avg       0.31      0.27      0.23       145\n",
      "\n"
     ]
    },
    {
     "name": "stderr",
     "output_type": "stream",
     "text": [
      "c:\\Users\\rnrgh\\OneDrive\\바탕 화면\\Second_Project\\.venv\\Lib\\site-packages\\sklearn\\metrics\\_classification.py:1565: UndefinedMetricWarning: Precision is ill-defined and being set to 0.0 in labels with no predicted samples. Use `zero_division` parameter to control this behavior.\n",
      "  _warn_prf(average, modifier, f\"{metric.capitalize()} is\", len(result))\n",
      "c:\\Users\\rnrgh\\OneDrive\\바탕 화면\\Second_Project\\.venv\\Lib\\site-packages\\sklearn\\metrics\\_classification.py:1565: UndefinedMetricWarning: Recall is ill-defined and being set to 0.0 in labels with no true samples. Use `zero_division` parameter to control this behavior.\n",
      "  _warn_prf(average, modifier, f\"{metric.capitalize()} is\", len(result))\n",
      "c:\\Users\\rnrgh\\OneDrive\\바탕 화면\\Second_Project\\.venv\\Lib\\site-packages\\sklearn\\metrics\\_classification.py:1565: UndefinedMetricWarning: Precision is ill-defined and being set to 0.0 in labels with no predicted samples. Use `zero_division` parameter to control this behavior.\n",
      "  _warn_prf(average, modifier, f\"{metric.capitalize()} is\", len(result))\n",
      "c:\\Users\\rnrgh\\OneDrive\\바탕 화면\\Second_Project\\.venv\\Lib\\site-packages\\sklearn\\metrics\\_classification.py:1565: UndefinedMetricWarning: Recall is ill-defined and being set to 0.0 in labels with no true samples. Use `zero_division` parameter to control this behavior.\n",
      "  _warn_prf(average, modifier, f\"{metric.capitalize()} is\", len(result))\n",
      "c:\\Users\\rnrgh\\OneDrive\\바탕 화면\\Second_Project\\.venv\\Lib\\site-packages\\sklearn\\metrics\\_classification.py:1565: UndefinedMetricWarning: Precision is ill-defined and being set to 0.0 in labels with no predicted samples. Use `zero_division` parameter to control this behavior.\n",
      "  _warn_prf(average, modifier, f\"{metric.capitalize()} is\", len(result))\n",
      "c:\\Users\\rnrgh\\OneDrive\\바탕 화면\\Second_Project\\.venv\\Lib\\site-packages\\sklearn\\metrics\\_classification.py:1565: UndefinedMetricWarning: Recall is ill-defined and being set to 0.0 in labels with no true samples. Use `zero_division` parameter to control this behavior.\n",
      "  _warn_prf(average, modifier, f\"{metric.capitalize()} is\", len(result))\n"
     ]
    }
   ],
   "source": [
    "y_pred = Lstm.predict(X_test)\n",
    "y_pred = np.argmax(y_pred,axis=1)\n",
    "print('-----------LSTM-----------')\n",
    "print(\"정확도:\",accuracy_score(y_test_raw,y_pred))\n",
    "print(\"혼동행렬:\\n\",confusion_matrix(y_test_raw,y_pred))\n",
    "print('분류보고서\\n',classification_report(y_test_raw,y_pred))"
   ]
  },
  {
   "cell_type": "code",
   "execution_count": null,
   "metadata": {},
   "outputs": [],
   "source": [
    "eval_df = pd.DataFrame({'Model': ['FNN', 'CNN', 'RNN', 'LSTM'],\n",
    "                        'Accuracy': [accuracy_score(y_test_raw, np.argmax(Fnn.predict(X_test),axis=1)), \n",
    "                                     accuracy_score(y_test_raw, np.argmax(Cnn.predict(X_test),axis=1)), \n",
    "                                     accuracy_score(y_test_raw, np.argmax(Rnn.predict(X_test),axis=1)), \n",
    "                                     accuracy_score(y_test_raw, np.argmax(Lstm.predict(X_test),aixs=1))]})"
   ]
  },
  {
   "cell_type": "code",
   "execution_count": null,
   "metadata": {},
   "outputs": [],
   "source": []
  },
  {
   "cell_type": "code",
   "execution_count": 191,
   "metadata": {},
   "outputs": [
    {
     "data": {
      "text/html": [
       "<pre style=\"white-space:pre;overflow-x:auto;line-height:normal;font-family:Menlo,'DejaVu Sans Mono',consolas,'Courier New',monospace\"><span style=\"font-weight: bold\">Model: \"sequential_22\"</span>\n",
       "</pre>\n"
      ],
      "text/plain": [
       "\u001b[1mModel: \"sequential_22\"\u001b[0m\n"
      ]
     },
     "metadata": {},
     "output_type": "display_data"
    },
    {
     "data": {
      "text/html": [
       "<pre style=\"white-space:pre;overflow-x:auto;line-height:normal;font-family:Menlo,'DejaVu Sans Mono',consolas,'Courier New',monospace\">┏━━━━━━━━━━━━━━━━━━━━━━━━━━━━━━━━━┳━━━━━━━━━━━━━━━━━━━━━━━━┳━━━━━━━━━━━━━━━┓\n",
       "┃<span style=\"font-weight: bold\"> Layer (type)                    </span>┃<span style=\"font-weight: bold\"> Output Shape           </span>┃<span style=\"font-weight: bold\">       Param # </span>┃\n",
       "┡━━━━━━━━━━━━━━━━━━━━━━━━━━━━━━━━━╇━━━━━━━━━━━━━━━━━━━━━━━━╇━━━━━━━━━━━━━━━┩\n",
       "│ conv1d_3 (<span style=\"color: #0087ff; text-decoration-color: #0087ff\">Conv1D</span>)               │ (<span style=\"color: #00d7ff; text-decoration-color: #00d7ff\">None</span>, <span style=\"color: #00af00; text-decoration-color: #00af00\">2</span>, <span style=\"color: #00af00; text-decoration-color: #00af00\">64</span>)          │         <span style=\"color: #00af00; text-decoration-color: #00af00\">9,088</span> │\n",
       "├─────────────────────────────────┼────────────────────────┼───────────────┤\n",
       "│ global_average_pooling1d        │ (<span style=\"color: #00d7ff; text-decoration-color: #00d7ff\">None</span>, <span style=\"color: #00af00; text-decoration-color: #00af00\">64</span>)             │             <span style=\"color: #00af00; text-decoration-color: #00af00\">0</span> │\n",
       "│ (<span style=\"color: #0087ff; text-decoration-color: #0087ff\">GlobalAveragePooling1D</span>)        │                        │               │\n",
       "└─────────────────────────────────┴────────────────────────┴───────────────┘\n",
       "</pre>\n"
      ],
      "text/plain": [
       "┏━━━━━━━━━━━━━━━━━━━━━━━━━━━━━━━━━┳━━━━━━━━━━━━━━━━━━━━━━━━┳━━━━━━━━━━━━━━━┓\n",
       "┃\u001b[1m \u001b[0m\u001b[1mLayer (type)                   \u001b[0m\u001b[1m \u001b[0m┃\u001b[1m \u001b[0m\u001b[1mOutput Shape          \u001b[0m\u001b[1m \u001b[0m┃\u001b[1m \u001b[0m\u001b[1m      Param #\u001b[0m\u001b[1m \u001b[0m┃\n",
       "┡━━━━━━━━━━━━━━━━━━━━━━━━━━━━━━━━━╇━━━━━━━━━━━━━━━━━━━━━━━━╇━━━━━━━━━━━━━━━┩\n",
       "│ conv1d_3 (\u001b[38;5;33mConv1D\u001b[0m)               │ (\u001b[38;5;45mNone\u001b[0m, \u001b[38;5;34m2\u001b[0m, \u001b[38;5;34m64\u001b[0m)          │         \u001b[38;5;34m9,088\u001b[0m │\n",
       "├─────────────────────────────────┼────────────────────────┼───────────────┤\n",
       "│ global_average_pooling1d        │ (\u001b[38;5;45mNone\u001b[0m, \u001b[38;5;34m64\u001b[0m)             │             \u001b[38;5;34m0\u001b[0m │\n",
       "│ (\u001b[38;5;33mGlobalAveragePooling1D\u001b[0m)        │                        │               │\n",
       "└─────────────────────────────────┴────────────────────────┴───────────────┘\n"
      ]
     },
     "metadata": {},
     "output_type": "display_data"
    },
    {
     "data": {
      "text/html": [
       "<pre style=\"white-space:pre;overflow-x:auto;line-height:normal;font-family:Menlo,'DejaVu Sans Mono',consolas,'Courier New',monospace\"><span style=\"font-weight: bold\"> Total params: </span><span style=\"color: #00af00; text-decoration-color: #00af00\">9,088</span> (35.50 KB)\n",
       "</pre>\n"
      ],
      "text/plain": [
       "\u001b[1m Total params: \u001b[0m\u001b[38;5;34m9,088\u001b[0m (35.50 KB)\n"
      ]
     },
     "metadata": {},
     "output_type": "display_data"
    },
    {
     "data": {
      "text/html": [
       "<pre style=\"white-space:pre;overflow-x:auto;line-height:normal;font-family:Menlo,'DejaVu Sans Mono',consolas,'Courier New',monospace\"><span style=\"font-weight: bold\"> Trainable params: </span><span style=\"color: #00af00; text-decoration-color: #00af00\">9,088</span> (35.50 KB)\n",
       "</pre>\n"
      ],
      "text/plain": [
       "\u001b[1m Trainable params: \u001b[0m\u001b[38;5;34m9,088\u001b[0m (35.50 KB)\n"
      ]
     },
     "metadata": {},
     "output_type": "display_data"
    },
    {
     "data": {
      "text/html": [
       "<pre style=\"white-space:pre;overflow-x:auto;line-height:normal;font-family:Menlo,'DejaVu Sans Mono',consolas,'Courier New',monospace\"><span style=\"font-weight: bold\"> Non-trainable params: </span><span style=\"color: #00af00; text-decoration-color: #00af00\">0</span> (0.00 B)\n",
       "</pre>\n"
      ],
      "text/plain": [
       "\u001b[1m Non-trainable params: \u001b[0m\u001b[38;5;34m0\u001b[0m (0.00 B)\n"
      ]
     },
     "metadata": {},
     "output_type": "display_data"
    }
   ],
   "source": [
    "## CNN 특징 추출\n",
    "Cnn_F =Sequential()\n",
    "Cnn_F.add(Conv1D(64,3, activation='relu', input_shape=(X_train.shape[1],X_train.shape[2])))\n",
    "Cnn_F.add(GlobalAvgPool1D())\n",
    "Cnn_F.summary()"
   ]
  },
  {
   "cell_type": "code",
   "execution_count": null,
   "metadata": {},
   "outputs": [],
   "source": []
  }
 ],
 "metadata": {
  "kernelspec": {
   "display_name": ".venv",
   "language": "python",
   "name": "python3"
  },
  "language_info": {
   "codemirror_mode": {
    "name": "ipython",
    "version": 3
   },
   "file_extension": ".py",
   "mimetype": "text/x-python",
   "name": "python",
   "nbconvert_exporter": "python",
   "pygments_lexer": "ipython3",
   "version": "3.11.9"
  }
 },
 "nbformat": 4,
 "nbformat_minor": 5
}
